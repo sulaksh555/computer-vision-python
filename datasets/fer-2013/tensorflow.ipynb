{
  "metadata": {
    "kernelspec": {
      "language": "python",
      "display_name": "Python 3",
      "name": "python3"
    },
    "language_info": {
      "name": "python",
      "version": "3.7.12",
      "mimetype": "text/x-python",
      "codemirror_mode": {
        "name": "ipython",
        "version": 3
      },
      "pygments_lexer": "ipython3",
      "nbconvert_exporter": "python",
      "file_extension": ".py"
    },
    "colab": {
      "name": "facial-expression-recognition.ipynb",
      "provenance": []
    },
    "accelerator": "GPU"
  },
  "nbformat_minor": 0,
  "nbformat": 4,
  "cells": [
    {
      "cell_type": "markdown",
      "source": [
        "# Synopsis"
      ],
      "metadata": {
        "id": "pbq7jScP9KZe"
      }
    },
    {
      "cell_type": "markdown",
      "source": [
        "This project aims to build a convolutional neural network model to recognize emotions in facial expressions. The model is trained on the [FER-2013 dataset](https://www.kaggle.com/msambare/fer2013) using TensorFlow. The architecture and weights of the trained model are exported for incorporation into a Flask app."
      ],
      "metadata": {
        "id": "2aNBfBjQ9KZj"
      }
    },
    {
      "cell_type": "markdown",
      "source": [
        "# Setup"
      ],
      "metadata": {
        "id": "bGZX3RBj9KZk"
      }
    },
    {
      "cell_type": "markdown",
      "source": [
        "Import the libraries and methods needed for the project."
      ],
      "metadata": {
        "id": "wYpqNeJh9KZl"
      }
    },
    {
      "cell_type": "code",
      "source": [
        "! pip install livelossplot"
      ],
      "metadata": {
        "colab": {
          "base_uri": "https://localhost:8080/"
        },
        "id": "EdPcxVPH9KZm",
        "outputId": "fe59adc5-3c8a-4b88-d119-f838dc104240"
      },
      "execution_count": 1,
      "outputs": [
        {
          "output_type": "stream",
          "name": "stdout",
          "text": [
            "Requirement already satisfied: livelossplot in /usr/local/lib/python3.7/dist-packages (0.5.4)\n",
            "Requirement already satisfied: matplotlib in /usr/local/lib/python3.7/dist-packages (from livelossplot) (3.2.2)\n",
            "Requirement already satisfied: ipython in /usr/local/lib/python3.7/dist-packages (from livelossplot) (5.5.0)\n",
            "Requirement already satisfied: bokeh in /usr/local/lib/python3.7/dist-packages (from livelossplot) (2.3.3)\n",
            "Requirement already satisfied: tornado>=5.1 in /usr/local/lib/python3.7/dist-packages (from bokeh->livelossplot) (5.1.1)\n",
            "Requirement already satisfied: packaging>=16.8 in /usr/local/lib/python3.7/dist-packages (from bokeh->livelossplot) (21.3)\n",
            "Requirement already satisfied: Jinja2>=2.9 in /usr/local/lib/python3.7/dist-packages (from bokeh->livelossplot) (2.11.3)\n",
            "Requirement already satisfied: python-dateutil>=2.1 in /usr/local/lib/python3.7/dist-packages (from bokeh->livelossplot) (2.8.2)\n",
            "Requirement already satisfied: pillow>=7.1.0 in /usr/local/lib/python3.7/dist-packages (from bokeh->livelossplot) (7.1.2)\n",
            "Requirement already satisfied: typing-extensions>=3.7.4 in /usr/local/lib/python3.7/dist-packages (from bokeh->livelossplot) (3.10.0.2)\n",
            "Requirement already satisfied: numpy>=1.11.3 in /usr/local/lib/python3.7/dist-packages (from bokeh->livelossplot) (1.19.5)\n",
            "Requirement already satisfied: PyYAML>=3.10 in /usr/local/lib/python3.7/dist-packages (from bokeh->livelossplot) (3.13)\n",
            "Requirement already satisfied: MarkupSafe>=0.23 in /usr/local/lib/python3.7/dist-packages (from Jinja2>=2.9->bokeh->livelossplot) (2.0.1)\n",
            "Requirement already satisfied: pyparsing!=3.0.5,>=2.0.2 in /usr/local/lib/python3.7/dist-packages (from packaging>=16.8->bokeh->livelossplot) (3.0.6)\n",
            "Requirement already satisfied: six>=1.5 in /usr/local/lib/python3.7/dist-packages (from python-dateutil>=2.1->bokeh->livelossplot) (1.15.0)\n",
            "Requirement already satisfied: pexpect in /usr/local/lib/python3.7/dist-packages (from ipython->livelossplot) (4.8.0)\n",
            "Requirement already satisfied: prompt-toolkit<2.0.0,>=1.0.4 in /usr/local/lib/python3.7/dist-packages (from ipython->livelossplot) (1.0.18)\n",
            "Requirement already satisfied: pygments in /usr/local/lib/python3.7/dist-packages (from ipython->livelossplot) (2.6.1)\n",
            "Requirement already satisfied: simplegeneric>0.8 in /usr/local/lib/python3.7/dist-packages (from ipython->livelossplot) (0.8.1)\n",
            "Requirement already satisfied: decorator in /usr/local/lib/python3.7/dist-packages (from ipython->livelossplot) (4.4.2)\n",
            "Requirement already satisfied: pickleshare in /usr/local/lib/python3.7/dist-packages (from ipython->livelossplot) (0.7.5)\n",
            "Requirement already satisfied: setuptools>=18.5 in /usr/local/lib/python3.7/dist-packages (from ipython->livelossplot) (57.4.0)\n",
            "Requirement already satisfied: traitlets>=4.2 in /usr/local/lib/python3.7/dist-packages (from ipython->livelossplot) (5.1.1)\n",
            "Requirement already satisfied: wcwidth in /usr/local/lib/python3.7/dist-packages (from prompt-toolkit<2.0.0,>=1.0.4->ipython->livelossplot) (0.2.5)\n",
            "Requirement already satisfied: kiwisolver>=1.0.1 in /usr/local/lib/python3.7/dist-packages (from matplotlib->livelossplot) (1.3.2)\n",
            "Requirement already satisfied: cycler>=0.10 in /usr/local/lib/python3.7/dist-packages (from matplotlib->livelossplot) (0.11.0)\n",
            "Requirement already satisfied: ptyprocess>=0.5 in /usr/local/lib/python3.7/dist-packages (from pexpect->ipython->livelossplot) (0.7.0)\n"
          ]
        }
      ]
    },
    {
      "cell_type": "code",
      "source": [
        "import numpy as np\n",
        "import seaborn as sns\n",
        "import matplotlib.pyplot as plt\n",
        "%matplotlib inline\n",
        "import tensorflow as tf\n",
        "from tensorflow.keras.preprocessing.image import ImageDataGenerator\n",
        "from tensorflow.keras.layers import Dense, Input, Dropout, Flatten, Conv2D\n",
        "from tensorflow.keras.layers import BatchNormalization, Activation, MaxPooling2D\n",
        "from tensorflow.keras.models import Model, Sequential\n",
        "from tensorflow.keras.optimizers import Adam\n",
        "from tensorflow.keras.callbacks import ModelCheckpoint, ReduceLROnPlateau\n",
        "from tensorflow.keras.utils import plot_model\n",
        "import os\n",
        "import zipfile\n",
        "from livelossplot import PlotLossesKerasTF"
      ],
      "metadata": {
        "id": "wvGxjjeV-9Ls"
      },
      "execution_count": 2,
      "outputs": []
    },
    {
      "cell_type": "markdown",
      "source": [
        "# Load the data"
      ],
      "metadata": {
        "id": "96a4Pb64jRIK"
      }
    },
    {
      "cell_type": "markdown",
      "source": [
        "Load the dataset from its associated GitHub repository."
      ],
      "metadata": {
        "id": "2ma7D4LhjUYo"
      }
    },
    {
      "cell_type": "code",
      "source": [
        "! wget --no-check-certificate \\\n",
        "    \"https://github.com/sulaksh555/facial-expression-recognition/archive/refs/heads/main.zip\" \\\n",
        "    -O \"/tmp/facial-expression-recognition.zip\"\n",
        "\n",
        "# open the zip file\n",
        "zip_ref = zipfile.ZipFile(\"/tmp/facial-expression-recognition.zip\", \"r\") \n",
        "# extract its contents into the tmp folder\n",
        "zip_ref.extractall(\"/tmp\") \n",
        "zip_ref.close()"
      ],
      "metadata": {
        "colab": {
          "base_uri": "https://localhost:8080/"
        },
        "id": "733Ga3ZFjfVT",
        "outputId": "be27622b-d1b5-4054-e544-f7535e767fe8"
      },
      "execution_count": 3,
      "outputs": [
        {
          "output_type": "stream",
          "name": "stdout",
          "text": [
            "--2021-12-15 20:19:04--  https://github.com/sulaksh555/facial-expression-recognition/archive/refs/heads/main.zip\n",
            "Resolving github.com (github.com)... 52.192.72.89\n",
            "Connecting to github.com (github.com)|52.192.72.89|:443... connected.\n",
            "HTTP request sent, awaiting response... 302 Found\n",
            "Location: https://codeload.github.com/sulaksh555/facial-expression-recognition/zip/refs/heads/main [following]\n",
            "--2021-12-15 20:19:04--  https://codeload.github.com/sulaksh555/facial-expression-recognition/zip/refs/heads/main\n",
            "Resolving codeload.github.com (codeload.github.com)... 52.193.111.178\n",
            "Connecting to codeload.github.com (codeload.github.com)|52.193.111.178|:443... connected.\n",
            "HTTP request sent, awaiting response... 200 OK\n",
            "Length: unspecified [application/zip]\n",
            "Saving to: ‘/tmp/facial-expression-recognition.zip’\n",
            "\n",
            "/tmp/facial-express     [         <=>        ]  72.93M  14.2MB/s    in 5.2s    \n",
            "\n",
            "2021-12-15 20:19:10 (14.1 MB/s) - ‘/tmp/facial-expression-recognition.zip’ saved [76475472]\n",
            "\n"
          ]
        }
      ]
    },
    {
      "cell_type": "code",
      "source": [
        "path_to_train = \"/tmp/facial-expression-recognition-main/train\"\n",
        "path_to_valid = \"/tmp/facial-expression-recognition-main/test\""
      ],
      "metadata": {
        "id": "fvGq0ViYl5zn"
      },
      "execution_count": 4,
      "outputs": []
    },
    {
      "cell_type": "markdown",
      "source": [
        "# Create data iterators"
      ],
      "metadata": {
        "id": "pGZ60La19KZp"
      }
    },
    {
      "cell_type": "markdown",
      "source": [
        "Create data iterators for the training and validation sets using a desired batch size."
      ],
      "metadata": {
        "id": "GeX-GfnM9KZq"
      }
    },
    {
      "cell_type": "code",
      "source": [
        "img_size = 48\n",
        "batch_size = 64"
      ],
      "metadata": {
        "id": "bY8meVmW9KZr"
      },
      "execution_count": 5,
      "outputs": []
    },
    {
      "cell_type": "code",
      "source": [
        "train_datagen = ImageDataGenerator(rotation_range = 0.1,\n",
        "                                   zoom_range = 0.1,\n",
        "                                   horizontal_flip = True)\n",
        "train_iterator = train_datagen.flow_from_directory(path_to_train,\n",
        "                                                   target_size = (img_size, img_size),\n",
        "                                                   color_mode = \"grayscale\",\n",
        "                                                   batch_size = batch_size,\n",
        "                                                   class_mode = \"categorical\",\n",
        "                                                   shuffle = True)\n",
        "\n",
        "valid_datagen = ImageDataGenerator(rotation_range = 0.1,\n",
        "                                   zoom_range = 0.1,\n",
        "                                   horizontal_flip = True)\n",
        "valid_iterator = valid_datagen.flow_from_directory(path_to_valid,\n",
        "                                                   target_size = (img_size, img_size),\n",
        "                                                   color_mode = \"grayscale\",\n",
        "                                                   batch_size = batch_size,\n",
        "                                                   class_mode = \"categorical\",\n",
        "                                                   shuffle = False)"
      ],
      "metadata": {
        "id": "iri8ehFw-9Tj",
        "outputId": "aae356b1-751b-43fe-afec-462e405614c2",
        "colab": {
          "base_uri": "https://localhost:8080/"
        }
      },
      "execution_count": 6,
      "outputs": [
        {
          "output_type": "stream",
          "name": "stdout",
          "text": [
            "Found 28708 images belonging to 7 classes.\n",
            "Found 7178 images belonging to 7 classes.\n"
          ]
        }
      ]
    },
    {
      "cell_type": "markdown",
      "source": [
        "# Define the model"
      ],
      "metadata": {
        "id": "IxRfA2fH9KZt"
      }
    },
    {
      "cell_type": "markdown",
      "source": [
        "Define the architecture of the convolutional neural network model. The model comprises four convolutional blocks which extract features from the image, a flattening layer, two fully connected blocks, and a final classifier layer which uses the softmax activation to categorize the expression in the image into one of seven emotions."
      ],
      "metadata": {
        "id": "nPZqO5w29KZu"
      }
    },
    {
      "cell_type": "code",
      "source": [
        "# initialize the model\n",
        "model = Sequential()\n",
        "\n",
        "# convolutional block 1\n",
        "model.add(Conv2D(filters = 64, \n",
        "                 kernel_size = (3, 3), \n",
        "                 padding = \"same\", \n",
        "                 input_shape = (48, 48, 1)))\n",
        "model.add(BatchNormalization())\n",
        "model.add(Activation(activation = \"relu\"))\n",
        "model.add(MaxPooling2D(pool_size = (2, 2)))\n",
        "model.add(Dropout(rate = 0.25))\n",
        "\n",
        "# convolutional block 2\n",
        "model.add(Conv2D(filters = 128, \n",
        "                 kernel_size = (5, 5), \n",
        "                 padding = \"same\"))\n",
        "model.add(BatchNormalization())\n",
        "model.add(Activation(activation = \"relu\"))\n",
        "model.add(MaxPooling2D(pool_size = (2, 2)))\n",
        "model.add(Dropout(rate = 0.25))\n",
        "\n",
        "# convolutional block 3\n",
        "model.add(Conv2D(filters = 512, \n",
        "                 kernel_size = (3, 3), \n",
        "                 padding = \"same\"))\n",
        "model.add(BatchNormalization())\n",
        "model.add(Activation(activation = \"relu\"))\n",
        "model.add(MaxPooling2D(pool_size = (2, 2)))\n",
        "model.add(Dropout(rate = 0.25))\n",
        "\n",
        "# convolutional block 4\n",
        "model.add(Conv2D(filters = 512, \n",
        "                 kernel_size = (3, 3), \n",
        "                 padding = \"same\"))\n",
        "model.add(BatchNormalization())\n",
        "model.add(Activation(activation = \"relu\"))\n",
        "model.add(MaxPooling2D(pool_size = (2, 2)))\n",
        "model.add(Dropout(rate = 0.25))\n",
        "\n",
        "# flattening\n",
        "model.add(Flatten())\n",
        "\n",
        "# fully connected block 1\n",
        "model.add(Dense(units = 256))\n",
        "model.add(BatchNormalization())\n",
        "model.add(Activation(activation = \"relu\"))\n",
        "model.add(Dropout(rate = 0.25))\n",
        "\n",
        "# fully connected block 2\n",
        "model.add(Dense(units = 512))\n",
        "model.add(BatchNormalization())\n",
        "model.add(Activation(activation = \"relu\"))\n",
        "model.add(Dropout(rate = 0.25))\n",
        "\n",
        "# output layer\n",
        "model.add(Dense(units = 7, \n",
        "                activation = \"softmax\"))"
      ],
      "metadata": {
        "id": "xlSLN77x9KZu"
      },
      "execution_count": 7,
      "outputs": []
    },
    {
      "cell_type": "markdown",
      "source": [
        "Compile the model with an optimizer, a loss function and a metric."
      ],
      "metadata": {
        "id": "dGyDhwXi9KZv"
      }
    },
    {
      "cell_type": "code",
      "source": [
        "model.compile(optimizer = Adam(lr = 0.0005), \n",
        "              loss = \"categorical_crossentropy\", \n",
        "              metrics = [\"accuracy\"])"
      ],
      "metadata": {
        "colab": {
          "base_uri": "https://localhost:8080/"
        },
        "id": "47KzJfjq9KZw",
        "outputId": "37e99063-3306-4753-bdb7-b01384f4a21a"
      },
      "execution_count": 8,
      "outputs": [
        {
          "output_type": "stream",
          "name": "stderr",
          "text": [
            "/usr/local/lib/python3.7/dist-packages/keras/optimizer_v2/adam.py:105: UserWarning: The `lr` argument is deprecated, use `learning_rate` instead.\n",
            "  super(Adam, self).__init__(name, **kwargs)\n"
          ]
        }
      ]
    },
    {
      "cell_type": "markdown",
      "source": [
        "View a summary of the model."
      ],
      "metadata": {
        "id": "O3pfVarz9KZw"
      }
    },
    {
      "cell_type": "code",
      "source": [
        "model.summary()"
      ],
      "metadata": {
        "colab": {
          "base_uri": "https://localhost:8080/"
        },
        "id": "CJPoclPQ9KZx",
        "outputId": "5b2db44d-3d56-4900-fed5-ae7cec457a99"
      },
      "execution_count": 9,
      "outputs": [
        {
          "output_type": "stream",
          "name": "stdout",
          "text": [
            "Model: \"sequential\"\n",
            "_________________________________________________________________\n",
            " Layer (type)                Output Shape              Param #   \n",
            "=================================================================\n",
            " conv2d (Conv2D)             (None, 48, 48, 64)        640       \n",
            "                                                                 \n",
            " batch_normalization (BatchN  (None, 48, 48, 64)       256       \n",
            " ormalization)                                                   \n",
            "                                                                 \n",
            " activation (Activation)     (None, 48, 48, 64)        0         \n",
            "                                                                 \n",
            " max_pooling2d (MaxPooling2D  (None, 24, 24, 64)       0         \n",
            " )                                                               \n",
            "                                                                 \n",
            " dropout (Dropout)           (None, 24, 24, 64)        0         \n",
            "                                                                 \n",
            " conv2d_1 (Conv2D)           (None, 24, 24, 128)       204928    \n",
            "                                                                 \n",
            " batch_normalization_1 (Batc  (None, 24, 24, 128)      512       \n",
            " hNormalization)                                                 \n",
            "                                                                 \n",
            " activation_1 (Activation)   (None, 24, 24, 128)       0         \n",
            "                                                                 \n",
            " max_pooling2d_1 (MaxPooling  (None, 12, 12, 128)      0         \n",
            " 2D)                                                             \n",
            "                                                                 \n",
            " dropout_1 (Dropout)         (None, 12, 12, 128)       0         \n",
            "                                                                 \n",
            " conv2d_2 (Conv2D)           (None, 12, 12, 512)       590336    \n",
            "                                                                 \n",
            " batch_normalization_2 (Batc  (None, 12, 12, 512)      2048      \n",
            " hNormalization)                                                 \n",
            "                                                                 \n",
            " activation_2 (Activation)   (None, 12, 12, 512)       0         \n",
            "                                                                 \n",
            " max_pooling2d_2 (MaxPooling  (None, 6, 6, 512)        0         \n",
            " 2D)                                                             \n",
            "                                                                 \n",
            " dropout_2 (Dropout)         (None, 6, 6, 512)         0         \n",
            "                                                                 \n",
            " conv2d_3 (Conv2D)           (None, 6, 6, 512)         2359808   \n",
            "                                                                 \n",
            " batch_normalization_3 (Batc  (None, 6, 6, 512)        2048      \n",
            " hNormalization)                                                 \n",
            "                                                                 \n",
            " activation_3 (Activation)   (None, 6, 6, 512)         0         \n",
            "                                                                 \n",
            " max_pooling2d_3 (MaxPooling  (None, 3, 3, 512)        0         \n",
            " 2D)                                                             \n",
            "                                                                 \n",
            " dropout_3 (Dropout)         (None, 3, 3, 512)         0         \n",
            "                                                                 \n",
            " flatten (Flatten)           (None, 4608)              0         \n",
            "                                                                 \n",
            " dense (Dense)               (None, 256)               1179904   \n",
            "                                                                 \n",
            " batch_normalization_4 (Batc  (None, 256)              1024      \n",
            " hNormalization)                                                 \n",
            "                                                                 \n",
            " activation_4 (Activation)   (None, 256)               0         \n",
            "                                                                 \n",
            " dropout_4 (Dropout)         (None, 256)               0         \n",
            "                                                                 \n",
            " dense_1 (Dense)             (None, 512)               131584    \n",
            "                                                                 \n",
            " batch_normalization_5 (Batc  (None, 512)              2048      \n",
            " hNormalization)                                                 \n",
            "                                                                 \n",
            " activation_5 (Activation)   (None, 512)               0         \n",
            "                                                                 \n",
            " dropout_5 (Dropout)         (None, 512)               0         \n",
            "                                                                 \n",
            " dense_2 (Dense)             (None, 7)                 3591      \n",
            "                                                                 \n",
            "=================================================================\n",
            "Total params: 4,478,727\n",
            "Trainable params: 4,474,759\n",
            "Non-trainable params: 3,968\n",
            "_________________________________________________________________\n"
          ]
        }
      ]
    },
    {
      "cell_type": "markdown",
      "source": [
        "# Train the model"
      ],
      "metadata": {
        "id": "WxUZ9ffp9KZx"
      }
    },
    {
      "cell_type": "markdown",
      "source": [
        "Set training hyperparameters."
      ],
      "metadata": {
        "id": "h52Yn_e19KZx"
      }
    },
    {
      "cell_type": "code",
      "source": [
        "n_epochs = 30\n",
        "steps_per_epoch_train = train_iterator.n // train_iterator.batch_size\n",
        "steps_per_epoch_valid = valid_iterator.n // valid_iterator.batch_size"
      ],
      "metadata": {
        "id": "INzzu1sK9KZx"
      },
      "execution_count": 10,
      "outputs": []
    },
    {
      "cell_type": "markdown",
      "source": [
        "Define callbacks for the model."
      ],
      "metadata": {
        "id": "c4q0yOXa9KZy"
      }
    },
    {
      "cell_type": "code",
      "source": [
        "reduce_lr = ReduceLROnPlateau(monitor = \"val_loss\", \n",
        "                              factor = 0.1,\n",
        "                              patience = 2, \n",
        "                              min_lr = 0.00001, \n",
        "                              mode = \"auto\")\n",
        "checkpoint = ModelCheckpoint(\"model-weights.h5\", \n",
        "                             monitor = \"val_accuracy\",\n",
        "                             save_weights_only = True, \n",
        "                             mode = \"max\", \n",
        "                             verbose = 1)\n",
        "callbacks = [PlotLossesKerasTF(), checkpoint, reduce_lr]"
      ],
      "metadata": {
        "id": "OnHw10rO9KZy"
      },
      "execution_count": 11,
      "outputs": []
    },
    {
      "cell_type": "code",
      "source": [
        "%%time\n",
        "\n",
        "history = model.fit(train_iterator,\n",
        "                    epochs = n_epochs,\n",
        "                    steps_per_epoch = steps_per_epoch_train,\n",
        "                    validation_data = valid_iterator,\n",
        "                    validation_steps = steps_per_epoch_valid,\n",
        "                    callbacks = callbacks)"
      ],
      "metadata": {
        "colab": {
          "base_uri": "https://localhost:8080/",
          "height": 796
        },
        "id": "VP4CXW779KZy",
        "outputId": "70a6bc79-8836-4bf4-e154-2aff95b6f749"
      },
      "execution_count": 12,
      "outputs": [
        {
          "output_type": "display_data",
          "data": {
            "image/png": "[encoded data removed]",
            "text/plain": [
              "<Figure size 864x576 with 2 Axes>"
            ]
          },
          "metadata": {
            "needs_background": "light"
          }
        },
        {
          "output_type": "stream",
          "name": "stdout",
          "text": [
            "accuracy\n",
            "\ttraining         \t (min:    0.303, max:    0.653, cur:    0.652)\n",
            "\tvalidation       \t (min:    0.396, max:    0.639, cur:    0.638)\n",
            "Loss\n",
            "\ttraining         \t (min:    0.922, max:    1.813, cur:    0.922)\n",
            "\tvalidation       \t (min:    0.972, max:    1.669, cur:    0.976)\n",
            "\n",
            "Epoch 00030: saving model to model-weights.h5\n",
            "\b\b\b\b\b\b\b\b\b\b\b\b\b\b\b\b\b\b\b\b\b\b\b\b\b\b\b\b\b\b\b\b\b\b\b\b\b\b\b\b\b\b\b\b\b\b\b\b\b\b\b\b\b\b\b\b\b\b\b\b\b\b\b\b\b\b\b\b\b\b\b\b\b\b\b\b\b\b\b\b\b\b\b\b\r448/448 [==============================] - 38s 85ms/step - loss: 0.9224 - accuracy: 0.6522 - val_loss: 0.9756 - val_accuracy: 0.6381 - lr: 1.0000e-05\n",
            "CPU times: user 26min 11s, sys: 1min 37s, total: 27min 49s\n",
            "Wall time: 20min 32s\n"
          ]
        }
      ]
    },
    {
      "cell_type": "markdown",
      "source": [
        "# Evaluate the model"
      ],
      "metadata": {
        "id": "FOSHwhga9KZz"
      }
    },
    {
      "cell_type": "markdown",
      "source": [
        "Obtain an out-of-sample categorization accuracy score for the model."
      ],
      "metadata": {
        "id": "73NjAla49KZz"
      }
    },
    {
      "cell_type": "code",
      "source": [
        "test_loss, test_accuracy = model.evaluate(valid_iterator)\n",
        "\n",
        "print(f\"Loss on the test set: {test_loss}\")\n",
        "print(f\"Accuracy on the test set: {test_accuracy}\")"
      ],
      "metadata": {
        "colab": {
          "base_uri": "https://localhost:8080/"
        },
        "id": "C7gv3xed9KZz",
        "outputId": "39a1f746-c65a-4527-8675-7488d9b84382"
      },
      "execution_count": 13,
      "outputs": [
        {
          "output_type": "stream",
          "name": "stdout",
          "text": [
            "113/113 [==============================] - 7s 59ms/step - loss: 0.9703 - accuracy: 0.6389\n",
            "Loss on the test set: 0.9703261256217957\n",
            "Accuracy on the test set: 0.638896644115448\n"
          ]
        }
      ]
    },
    {
      "cell_type": "markdown",
      "source": [
        "# Save the model architecture"
      ],
      "metadata": {
        "id": "z7YtzW909KZz"
      }
    },
    {
      "cell_type": "markdown",
      "source": [
        "Save the model's architecture to disk in the form of a JSON file."
      ],
      "metadata": {
        "id": "xdbu8h8y9KZ0"
      }
    },
    {
      "cell_type": "code",
      "source": [
        "model_json = model.to_json()\n",
        "\n",
        "with open(\"model.json\", \"w\") as json_file:\n",
        "    json_file.write(model_json)"
      ],
      "metadata": {
        "id": "cHw8ir7CVAE0"
      },
      "execution_count": 14,
      "outputs": []
    }
  ]
}