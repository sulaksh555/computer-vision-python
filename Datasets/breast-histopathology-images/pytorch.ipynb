{
 "cells": [
  {
   "cell_type": "markdown",
   "id": "dbe894c4",
   "metadata": {
    "papermill": {
     "duration": 0.033362,
     "end_time": "2021-12-09T01:48:45.797192",
     "exception": false,
     "start_time": "2021-12-09T01:48:45.763830",
     "status": "completed"
    },
    "tags": []
   },
   "source": [
    "# Synopsis"
   ]
  },
  {
   "cell_type": "markdown",
   "id": "ec4d2b26",
   "metadata": {
    "papermill": {
     "duration": 0.050531,
     "end_time": "2021-12-09T01:48:45.897778",
     "exception": false,
     "start_time": "2021-12-09T01:48:45.847247",
     "status": "completed"
    },
    "tags": []
   },
   "source": [
    "This project aims to diagnose breast cancer using computer vision. A deep learning model was trained on the Breast Histopathology Images dataset from Kaggle (https://www.kaggle.com/paultimothymooney/breast-histopathology-images) to distinguish positive cases from negative cases. PyTorch was used to build and train the convoluted neural network on 277524 invasive ductal carcinoma specimen images over 10 epochs."
   ]
  },
  {
   "cell_type": "markdown",
   "id": "a9bdd8d3",
   "metadata": {
    "papermill": {
     "duration": 0.03202,
     "end_time": "2021-12-09T01:48:45.961856",
     "exception": false,
     "start_time": "2021-12-09T01:48:45.929836",
     "status": "completed"
    },
    "tags": []
   },
   "source": [
    "# Setup"
   ]
  },
  {
   "cell_type": "markdown",
   "id": "287408a4",
   "metadata": {
    "papermill": {
     "duration": 0.032238,
     "end_time": "2021-12-09T01:48:46.027450",
     "exception": false,
     "start_time": "2021-12-09T01:48:45.995212",
     "status": "completed"
    },
    "tags": []
   },
   "source": [
    "Import the libraries and methods needed for the project."
   ]
  },
  {
   "cell_type": "code",
   "execution_count": 1,
   "id": "b0296b4e",
   "metadata": {
    "execution": {
     "iopub.execute_input": "2021-12-09T01:48:46.103881Z",
     "iopub.status.busy": "2021-12-09T01:48:46.103131Z",
     "iopub.status.idle": "2021-12-09T01:48:54.967823Z",
     "shell.execute_reply": "2021-12-09T01:48:54.967219Z",
     "shell.execute_reply.started": "2021-12-07T00:35:29.277501Z"
    },
    "papermill": {
     "duration": 8.907233,
     "end_time": "2021-12-09T01:48:54.967968",
     "exception": false,
     "start_time": "2021-12-09T01:48:46.060735",
     "status": "completed"
    },
    "tags": []
   },
   "outputs": [
    {
     "name": "stdout",
     "output_type": "stream",
     "text": [
      "Collecting torchinfo\r\n",
      "  Downloading torchinfo-1.5.4-py3-none-any.whl (19 kB)\r\n",
      "Installing collected packages: torchinfo\r\n",
      "Successfully installed torchinfo-1.5.4\r\n",
      "\u001b[33mWARNING: Running pip as the 'root' user can result in broken permissions and conflicting behaviour with the system package manager. It is recommended to use a virtual environment instead: https://pip.pypa.io/warnings/venv\u001b[0m\r\n"
     ]
    }
   ],
   "source": [
    "! pip install torchinfo"
   ]
  },
  {
   "cell_type": "code",
   "execution_count": 2,
   "id": "6fe63114",
   "metadata": {
    "execution": {
     "iopub.execute_input": "2021-12-09T01:48:55.042011Z",
     "iopub.status.busy": "2021-12-09T01:48:55.041220Z",
     "iopub.status.idle": "2021-12-09T01:48:57.809446Z",
     "shell.execute_reply": "2021-12-09T01:48:57.808465Z",
     "shell.execute_reply.started": "2021-12-07T04:12:06.447628Z"
    },
    "papermill": {
     "duration": 2.807639,
     "end_time": "2021-12-09T01:48:57.809595",
     "exception": false,
     "start_time": "2021-12-09T01:48:55.001956",
     "status": "completed"
    },
    "tags": []
   },
   "outputs": [],
   "source": [
    "import pandas as pd\n",
    "import matplotlib.pyplot as plt\n",
    "from sklearn.model_selection import train_test_split\n",
    "import torch\n",
    "from torch import nn\n",
    "import torch.nn.functional as F\n",
    "from torch.utils.data import DataLoader\n",
    "from torchvision import transforms\n",
    "import torchinfo\n",
    "from glob import glob\n",
    "import fnmatch\n",
    "import cv2"
   ]
  },
  {
   "cell_type": "markdown",
   "id": "b82b5e59",
   "metadata": {
    "papermill": {
     "duration": 0.032939,
     "end_time": "2021-12-09T01:48:57.875939",
     "exception": false,
     "start_time": "2021-12-09T01:48:57.843000",
     "status": "completed"
    },
    "tags": []
   },
   "source": [
    "# Load the data"
   ]
  },
  {
   "cell_type": "markdown",
   "id": "581da955",
   "metadata": {
    "papermill": {
     "duration": 0.032938,
     "end_time": "2021-12-09T01:48:57.942122",
     "exception": false,
     "start_time": "2021-12-09T01:48:57.909184",
     "status": "completed"
    },
    "tags": []
   },
   "source": [
    "Load all images in bulk."
   ]
  },
  {
   "cell_type": "code",
   "execution_count": 3,
   "id": "b1144d70",
   "metadata": {
    "execution": {
     "iopub.execute_input": "2021-12-09T01:48:58.012828Z",
     "iopub.status.busy": "2021-12-09T01:48:58.012271Z",
     "iopub.status.idle": "2021-12-09T01:49:53.608433Z",
     "shell.execute_reply": "2021-12-09T01:49:53.609637Z",
     "shell.execute_reply.started": "2021-12-07T00:36:06.002304Z"
    },
    "papermill": {
     "duration": 55.634746,
     "end_time": "2021-12-09T01:49:53.609905",
     "exception": false,
     "start_time": "2021-12-09T01:48:57.975159",
     "status": "completed"
    },
    "tags": []
   },
   "outputs": [],
   "source": [
    "image_patches = glob(\"../input/breast-histopathology-images/*/*/*_idx5_*.png\",\n",
    "                     recursive = True)"
   ]
  },
  {
   "cell_type": "markdown",
   "id": "0b3d020f",
   "metadata": {
    "papermill": {
     "duration": 0.061061,
     "end_time": "2021-12-09T01:49:53.732233",
     "exception": false,
     "start_time": "2021-12-09T01:49:53.671172",
     "status": "completed"
    },
    "tags": []
   },
   "source": [
    "# Data partitioning"
   ]
  },
  {
   "cell_type": "markdown",
   "id": "836ae910",
   "metadata": {
    "papermill": {
     "duration": 0.058906,
     "end_time": "2021-12-09T01:49:53.852901",
     "exception": false,
     "start_time": "2021-12-09T01:49:53.793995",
     "status": "completed"
    },
    "tags": []
   },
   "source": [
    "Separate the class 0 images from the class 1 images."
   ]
  },
  {
   "cell_type": "code",
   "execution_count": 4,
   "id": "5c7822f8",
   "metadata": {
    "execution": {
     "iopub.execute_input": "2021-12-09T01:49:53.939979Z",
     "iopub.status.busy": "2021-12-09T01:49:53.939079Z",
     "iopub.status.idle": "2021-12-09T01:49:53.941362Z",
     "shell.execute_reply": "2021-12-09T01:49:53.940842Z",
     "shell.execute_reply.started": "2021-12-07T00:37:22.107463Z"
    },
    "papermill": {
     "duration": 0.040236,
     "end_time": "2021-12-09T01:49:53.941467",
     "exception": false,
     "start_time": "2021-12-09T01:49:53.901231",
     "status": "completed"
    },
    "tags": []
   },
   "outputs": [],
   "source": [
    "pattern_zero = \"*class0.png\"\n",
    "pattern_one = \"*class1.png\""
   ]
  },
  {
   "cell_type": "code",
   "execution_count": 5,
   "id": "bde5a3d6",
   "metadata": {
    "execution": {
     "iopub.execute_input": "2021-12-09T01:49:54.027887Z",
     "iopub.status.busy": "2021-12-09T01:49:54.022745Z",
     "iopub.status.idle": "2021-12-09T01:49:54.243532Z",
     "shell.execute_reply": "2021-12-09T01:49:54.242537Z",
     "shell.execute_reply.started": "2021-12-07T00:37:33.703128Z"
    },
    "papermill": {
     "duration": 0.268627,
     "end_time": "2021-12-09T01:49:54.243680",
     "exception": false,
     "start_time": "2021-12-09T01:49:53.975053",
     "status": "completed"
    },
    "tags": []
   },
   "outputs": [],
   "source": [
    "class_zero = fnmatch.filter(image_patches,\n",
    "                            pattern_zero)\n",
    "class_one = fnmatch.filter(image_patches,\n",
    "                           pattern_one)"
   ]
  },
  {
   "cell_type": "markdown",
   "id": "72eb3ed7",
   "metadata": {
    "papermill": {
     "duration": 0.033235,
     "end_time": "2021-12-09T01:49:54.310602",
     "exception": false,
     "start_time": "2021-12-09T01:49:54.277367",
     "status": "completed"
    },
    "tags": []
   },
   "source": [
    "Create the labels."
   ]
  },
  {
   "cell_type": "code",
   "execution_count": 6,
   "id": "021f44a8",
   "metadata": {
    "execution": {
     "iopub.execute_input": "2021-12-09T01:49:54.452923Z",
     "iopub.status.busy": "2021-12-09T01:49:54.413987Z",
     "iopub.status.idle": "2021-12-09T02:04:22.962709Z",
     "shell.execute_reply": "2021-12-09T02:04:22.962166Z",
     "shell.execute_reply.started": "2021-12-07T00:37:38.866084Z"
    },
    "papermill": {
     "duration": 868.619154,
     "end_time": "2021-12-09T02:04:22.962866",
     "exception": false,
     "start_time": "2021-12-09T01:49:54.343712",
     "status": "completed"
    },
    "tags": []
   },
   "outputs": [],
   "source": [
    "y = []\n",
    "\n",
    "for image in image_patches:\n",
    "    if image in class_zero:\n",
    "        y.append(0)\n",
    "    if image in class_one:\n",
    "        y.append(1)"
   ]
  },
  {
   "cell_type": "markdown",
   "id": "ff3087c4",
   "metadata": {
    "papermill": {
     "duration": 0.032848,
     "end_time": "2021-12-09T02:04:23.037831",
     "exception": false,
     "start_time": "2021-12-09T02:04:23.004983",
     "status": "completed"
    },
    "tags": []
   },
   "source": [
    "Create a raw data frame containing the image file paths and the corresponding class labels."
   ]
  },
  {
   "cell_type": "code",
   "execution_count": 7,
   "id": "23b65620",
   "metadata": {
    "execution": {
     "iopub.execute_input": "2021-12-09T02:04:23.144025Z",
     "iopub.status.busy": "2021-12-09T02:04:23.113626Z",
     "iopub.status.idle": "2021-12-09T02:04:23.258930Z",
     "shell.execute_reply": "2021-12-09T02:04:23.258040Z",
     "shell.execute_reply.started": "2021-12-07T00:52:21.606157Z"
    },
    "papermill": {
     "duration": 0.188283,
     "end_time": "2021-12-09T02:04:23.259071",
     "exception": false,
     "start_time": "2021-12-09T02:04:23.070788",
     "status": "completed"
    },
    "tags": []
   },
   "outputs": [],
   "source": [
    "raw_df = pd.DataFrame({\"images\": image_patches,\n",
    "                       \"labels\": y})"
   ]
  },
  {
   "cell_type": "markdown",
   "id": "f0bb64b8",
   "metadata": {
    "papermill": {
     "duration": 0.032575,
     "end_time": "2021-12-09T02:04:23.325124",
     "exception": false,
     "start_time": "2021-12-09T02:04:23.292549",
     "status": "completed"
    },
    "tags": []
   },
   "source": [
    "Partition the raw data frame into a training frame, a validation frame and a test frame."
   ]
  },
  {
   "cell_type": "code",
   "execution_count": 8,
   "id": "32350489",
   "metadata": {
    "execution": {
     "iopub.execute_input": "2021-12-09T02:04:23.402398Z",
     "iopub.status.busy": "2021-12-09T02:04:23.401550Z",
     "iopub.status.idle": "2021-12-09T02:04:23.759418Z",
     "shell.execute_reply": "2021-12-09T02:04:23.760139Z",
     "shell.execute_reply.started": "2021-12-07T00:52:26.610478Z"
    },
    "papermill": {
     "duration": 0.402856,
     "end_time": "2021-12-09T02:04:23.760360",
     "exception": false,
     "start_time": "2021-12-09T02:04:23.357504",
     "status": "completed"
    },
    "tags": []
   },
   "outputs": [],
   "source": [
    "raw_train_and_valid, raw_test = train_test_split(raw_df,\n",
    "                                                 test_size = 0.1,\n",
    "                                                 stratify = raw_df[\"labels\"])\n",
    "raw_train, raw_valid = train_test_split(raw_train_and_valid,\n",
    "                                        test_size = 0.1,\n",
    "                                        stratify = raw_train_and_valid[\"labels\"])"
   ]
  },
  {
   "cell_type": "markdown",
   "id": "28d866fd",
   "metadata": {
    "papermill": {
     "duration": 0.033545,
     "end_time": "2021-12-09T02:04:23.828614",
     "exception": false,
     "start_time": "2021-12-09T02:04:23.795069",
     "status": "completed"
    },
    "tags": []
   },
   "source": [
    "Create a function that will make an image dataset from the raw data frame containing the file paths."
   ]
  },
  {
   "cell_type": "code",
   "execution_count": 9,
   "id": "e62f42cb",
   "metadata": {
    "execution": {
     "iopub.execute_input": "2021-12-09T02:04:23.910906Z",
     "iopub.status.busy": "2021-12-09T02:04:23.909914Z",
     "iopub.status.idle": "2021-12-09T02:04:23.912036Z",
     "shell.execute_reply": "2021-12-09T02:04:23.912556Z",
     "shell.execute_reply.started": "2021-12-07T00:52:31.820282Z"
    },
    "papermill": {
     "duration": 0.050596,
     "end_time": "2021-12-09T02:04:23.912727",
     "exception": false,
     "start_time": "2021-12-09T02:04:23.862131",
     "status": "completed"
    },
    "tags": []
   },
   "outputs": [],
   "source": [
    "class MakeImageDataset(torch.utils.data.Dataset):\n",
    "    def __init__(self,\n",
    "                 raw_df,\n",
    "                 transforms = None):\n",
    "        super().__init__()\n",
    "        self.file_path_data = raw_df.values\n",
    "        self.transforms = transforms\n",
    "        \n",
    "    def __len__(self):\n",
    "        return(len(self.file_path_data))\n",
    "    \n",
    "    def __getitem__(self,  \n",
    "                    index):\n",
    "        file_path, label = self.file_path_data[index]\n",
    "        image = cv2.imread(file_path)\n",
    "        image = cv2.resize(image,\n",
    "                           (50, 50))\n",
    "        \n",
    "        if self.transforms is not None:\n",
    "            image = self.transforms(image)\n",
    "            \n",
    "        return image, label"
   ]
  },
  {
   "cell_type": "markdown",
   "id": "5c05e1b4",
   "metadata": {
    "papermill": {
     "duration": 0.033977,
     "end_time": "2021-12-09T02:04:23.980787",
     "exception": false,
     "start_time": "2021-12-09T02:04:23.946810",
     "status": "completed"
    },
    "tags": []
   },
   "source": [
    "Define transforms for the training, validation and test sets."
   ]
  },
  {
   "cell_type": "code",
   "execution_count": 10,
   "id": "ee866688",
   "metadata": {
    "execution": {
     "iopub.execute_input": "2021-12-09T02:04:24.052348Z",
     "iopub.status.busy": "2021-12-09T02:04:24.050850Z",
     "iopub.status.idle": "2021-12-09T02:04:24.052955Z",
     "shell.execute_reply": "2021-12-09T02:04:24.053365Z",
     "shell.execute_reply.started": "2021-12-07T00:52:36.984294Z"
    },
    "papermill": {
     "duration": 0.039448,
     "end_time": "2021-12-09T02:04:24.053485",
     "exception": false,
     "start_time": "2021-12-09T02:04:24.014037",
     "status": "completed"
    },
    "tags": []
   },
   "outputs": [],
   "source": [
    "expected_means = [0.5, 0.5, 0.5]\n",
    "expected_stds = [0.5, 0.5, 0.5]"
   ]
  },
  {
   "cell_type": "code",
   "execution_count": 11,
   "id": "298b6957",
   "metadata": {
    "execution": {
     "iopub.execute_input": "2021-12-09T02:04:24.126727Z",
     "iopub.status.busy": "2021-12-09T02:04:24.125950Z",
     "iopub.status.idle": "2021-12-09T02:04:24.128317Z",
     "shell.execute_reply": "2021-12-09T02:04:24.127889Z",
     "shell.execute_reply.started": "2021-12-07T00:52:43.338497Z"
    },
    "papermill": {
     "duration": 0.042144,
     "end_time": "2021-12-09T02:04:24.128413",
     "exception": false,
     "start_time": "2021-12-09T02:04:24.086269",
     "status": "completed"
    },
    "tags": []
   },
   "outputs": [],
   "source": [
    "transforms_train = transforms.Compose([transforms.ToPILImage(),\n",
    "                                       transforms.Pad(padding = 64,\n",
    "                                                      padding_mode = \"reflect\"),\n",
    "                                       transforms.RandomHorizontalFlip(),\n",
    "                                       transforms.RandomVerticalFlip(),\n",
    "                                       transforms.RandomRotation(degrees = 20),\n",
    "                                       transforms.ToTensor(),\n",
    "                                       transforms.Normalize(mean = expected_means,\n",
    "                                                            std = expected_stds)])\n",
    "transforms_valid = transforms.Compose([transforms.ToPILImage(),\n",
    "                                       transforms.Pad(padding = 64,\n",
    "                                                      padding_mode = \"reflect\"),\n",
    "                                       transforms.ToTensor(),\n",
    "                                       transforms.Normalize(mean = expected_means,\n",
    "                                                            std = expected_stds)])\n",
    "transforms_test = transforms.Compose([transforms.ToPILImage(),\n",
    "                                      transforms.Pad(padding = 64,\n",
    "                                                     padding_mode = \"reflect\"),\n",
    "                                      transforms.ToTensor(),\n",
    "                                      transforms.Normalize(mean = expected_means,\n",
    "                                                           std = expected_stds)])"
   ]
  },
  {
   "cell_type": "markdown",
   "id": "056f6e80",
   "metadata": {
    "papermill": {
     "duration": 0.032655,
     "end_time": "2021-12-09T02:04:24.194128",
     "exception": false,
     "start_time": "2021-12-09T02:04:24.161473",
     "status": "completed"
    },
    "tags": []
   },
   "source": [
    "Create image datasets from the raw data frames."
   ]
  },
  {
   "cell_type": "code",
   "execution_count": 12,
   "id": "3af1fd03",
   "metadata": {
    "execution": {
     "iopub.execute_input": "2021-12-09T02:04:24.264347Z",
     "iopub.status.busy": "2021-12-09T02:04:24.263642Z",
     "iopub.status.idle": "2021-12-09T02:04:24.288856Z",
     "shell.execute_reply": "2021-12-09T02:04:24.288405Z",
     "shell.execute_reply.started": "2021-12-07T00:52:49.337320Z"
    },
    "papermill": {
     "duration": 0.062013,
     "end_time": "2021-12-09T02:04:24.288974",
     "exception": false,
     "start_time": "2021-12-09T02:04:24.226961",
     "status": "completed"
    },
    "tags": []
   },
   "outputs": [],
   "source": [
    "dataset_train = MakeImageDataset(raw_df = raw_train,\n",
    "                                 transforms = transforms_train)\n",
    "dataset_valid = MakeImageDataset(raw_df = raw_valid,\n",
    "                                 transforms = transforms_valid)\n",
    "dataset_test = MakeImageDataset(raw_df = raw_test,\n",
    "                                transforms = transforms_test)"
   ]
  },
  {
   "cell_type": "markdown",
   "id": "36161a58",
   "metadata": {
    "papermill": {
     "duration": 0.032563,
     "end_time": "2021-12-09T02:04:24.354817",
     "exception": false,
     "start_time": "2021-12-09T02:04:24.322254",
     "status": "completed"
    },
    "tags": []
   },
   "source": [
    "# Form data iterators"
   ]
  },
  {
   "cell_type": "markdown",
   "id": "77f3e807",
   "metadata": {
    "papermill": {
     "duration": 0.033094,
     "end_time": "2021-12-09T02:04:24.420474",
     "exception": false,
     "start_time": "2021-12-09T02:04:24.387380",
     "status": "completed"
    },
    "tags": []
   },
   "source": [
    "Form iterators using a desired batch size."
   ]
  },
  {
   "cell_type": "code",
   "execution_count": 13,
   "id": "cacbd18a",
   "metadata": {
    "execution": {
     "iopub.execute_input": "2021-12-09T02:04:24.490424Z",
     "iopub.status.busy": "2021-12-09T02:04:24.489789Z",
     "iopub.status.idle": "2021-12-09T02:04:24.492384Z",
     "shell.execute_reply": "2021-12-09T02:04:24.491961Z",
     "shell.execute_reply.started": "2021-12-07T00:52:54.498345Z"
    },
    "papermill": {
     "duration": 0.039351,
     "end_time": "2021-12-09T02:04:24.492482",
     "exception": false,
     "start_time": "2021-12-09T02:04:24.453131",
     "status": "completed"
    },
    "tags": []
   },
   "outputs": [],
   "source": [
    "BATCH_SIZE = 128"
   ]
  },
  {
   "cell_type": "code",
   "execution_count": 14,
   "id": "a253893f",
   "metadata": {
    "execution": {
     "iopub.execute_input": "2021-12-09T02:04:24.562689Z",
     "iopub.status.busy": "2021-12-09T02:04:24.560416Z",
     "iopub.status.idle": "2021-12-09T02:04:24.564947Z",
     "shell.execute_reply": "2021-12-09T02:04:24.564524Z",
     "shell.execute_reply.started": "2021-12-07T00:52:59.292445Z"
    },
    "papermill": {
     "duration": 0.03958,
     "end_time": "2021-12-09T02:04:24.565052",
     "exception": false,
     "start_time": "2021-12-09T02:04:24.525472",
     "status": "completed"
    },
    "tags": []
   },
   "outputs": [],
   "source": [
    "iterator_train = DataLoader(dataset = dataset_train,\n",
    "                            batch_size = BATCH_SIZE,\n",
    "                            shuffle = True)\n",
    "iterator_valid = DataLoader(dataset = dataset_valid,\n",
    "                            batch_size = BATCH_SIZE)\n",
    "iterator_test = DataLoader(dataset = dataset_test,\n",
    "                           batch_size = BATCH_SIZE)"
   ]
  },
  {
   "cell_type": "markdown",
   "id": "0d226f6a",
   "metadata": {
    "papermill": {
     "duration": 0.033002,
     "end_time": "2021-12-09T02:04:24.630677",
     "exception": false,
     "start_time": "2021-12-09T02:04:24.597675",
     "status": "completed"
    },
    "tags": []
   },
   "source": [
    "# Define the model"
   ]
  },
  {
   "cell_type": "markdown",
   "id": "a0173470",
   "metadata": {
    "papermill": {
     "duration": 0.032843,
     "end_time": "2021-12-09T02:04:24.696230",
     "exception": false,
     "start_time": "2021-12-09T02:04:24.663387",
     "status": "completed"
    },
    "tags": []
   },
   "source": [
    "Set up the GPU."
   ]
  },
  {
   "cell_type": "code",
   "execution_count": 15,
   "id": "71527ba4",
   "metadata": {
    "execution": {
     "iopub.execute_input": "2021-12-09T02:04:24.809594Z",
     "iopub.status.busy": "2021-12-09T02:04:24.808839Z",
     "iopub.status.idle": "2021-12-09T02:04:24.811281Z",
     "shell.execute_reply": "2021-12-09T02:04:24.810767Z",
     "shell.execute_reply.started": "2021-12-07T00:53:04.468929Z"
    },
    "papermill": {
     "duration": 0.082369,
     "end_time": "2021-12-09T02:04:24.811384",
     "exception": false,
     "start_time": "2021-12-09T02:04:24.729015",
     "status": "completed"
    },
    "tags": []
   },
   "outputs": [],
   "source": [
    "if torch.cuda.is_available():\n",
    "    device = torch.device(\"cuda\")\n",
    "else:\n",
    "    device = torch.device(\"cpu\")"
   ]
  },
  {
   "cell_type": "markdown",
   "id": "f761d192",
   "metadata": {
    "papermill": {
     "duration": 0.032648,
     "end_time": "2021-12-09T02:04:24.877062",
     "exception": false,
     "start_time": "2021-12-09T02:04:24.844414",
     "status": "completed"
    },
    "tags": []
   },
   "source": [
    "Define the model."
   ]
  },
  {
   "cell_type": "code",
   "execution_count": 16,
   "id": "bb2dd9b9",
   "metadata": {
    "execution": {
     "iopub.execute_input": "2021-12-09T02:04:24.955810Z",
     "iopub.status.busy": "2021-12-09T02:04:24.954989Z",
     "iopub.status.idle": "2021-12-09T02:04:24.956968Z",
     "shell.execute_reply": "2021-12-09T02:04:24.957339Z",
     "shell.execute_reply.started": "2021-12-07T00:53:13.492130Z"
    },
    "papermill": {
     "duration": 0.047548,
     "end_time": "2021-12-09T02:04:24.957458",
     "exception": false,
     "start_time": "2021-12-09T02:04:24.909910",
     "status": "completed"
    },
    "tags": []
   },
   "outputs": [],
   "source": [
    "class ImageClassifier(nn.Module):\n",
    "    def __init__(self):\n",
    "        super(ImageClassifier, self).__init__()\n",
    "        self.conv1 = nn.Conv2d(in_channels = 3,\n",
    "                               out_channels = 32,\n",
    "                               kernel_size = 3,\n",
    "                               padding = 2)\n",
    "        self.conv2 = nn.Conv2d(in_channels = 32,\n",
    "                               out_channels = 64,\n",
    "                               kernel_size = 3,\n",
    "                               padding = 2)\n",
    "        self.conv3 = nn.Conv2d(in_channels = 64,\n",
    "                               out_channels = 128,\n",
    "                               kernel_size = 3,\n",
    "                               padding = 2)\n",
    "        self.conv4 = nn.Conv2d(in_channels = 128,\n",
    "                               out_channels = 256,\n",
    "                               kernel_size = 3,\n",
    "                               padding = 2)\n",
    "        self.conv5 = nn.Conv2d(in_channels = 256,\n",
    "                               out_channels = 512,\n",
    "                               kernel_size = 3,\n",
    "                               padding = 2)\n",
    "        self.bn1 = nn.BatchNorm2d(num_features = 32)\n",
    "        self.bn2 = nn.BatchNorm2d(num_features = 64)\n",
    "        self.bn3 = nn.BatchNorm2d(num_features = 128)\n",
    "        self.bn4 = nn.BatchNorm2d(num_features = 256)\n",
    "        self.bn5 = nn.BatchNorm2d(num_features = 512)\n",
    "        self.max_pool = nn.MaxPool2d(kernel_size = 2,\n",
    "                                     stride = 2)\n",
    "        self.avg_pool = nn.AdaptiveAvgPool2d(output_size = (1, 1))\n",
    "        self.fc = nn.Linear(in_features = 512,\n",
    "                            out_features = 2)\n",
    "        \n",
    "    def forward(self, \n",
    "                x):\n",
    "        x = self.max_pool(F.leaky_relu(self.bn1(self.conv1(x))))\n",
    "        x = self.max_pool(F.leaky_relu(self.bn2(self.conv2(x))))\n",
    "        x = self.max_pool(F.leaky_relu(self.bn3(self.conv3(x))))\n",
    "        x = self.max_pool(F.leaky_relu(self.bn4(self.conv4(x))))\n",
    "        x = self.max_pool(F.leaky_relu(self.bn5(self.conv5(x))))\n",
    "        x = self.avg_pool(x)\n",
    "        x = x.view(-1, 512)\n",
    "        x = self.fc(x)\n",
    "        return x"
   ]
  },
  {
   "cell_type": "markdown",
   "id": "c2d27e45",
   "metadata": {
    "papermill": {
     "duration": 0.032843,
     "end_time": "2021-12-09T02:04:25.023217",
     "exception": false,
     "start_time": "2021-12-09T02:04:24.990374",
     "status": "completed"
    },
    "tags": []
   },
   "source": [
    "Copy the model to the GPU."
   ]
  },
  {
   "cell_type": "code",
   "execution_count": 17,
   "id": "2cc2a812",
   "metadata": {
    "execution": {
     "iopub.execute_input": "2021-12-09T02:04:25.093700Z",
     "iopub.status.busy": "2021-12-09T02:04:25.093141Z",
     "iopub.status.idle": "2021-12-09T02:04:28.032444Z",
     "shell.execute_reply": "2021-12-09T02:04:28.031327Z",
     "shell.execute_reply.started": "2021-12-07T00:53:20.592247Z"
    },
    "papermill": {
     "duration": 2.976534,
     "end_time": "2021-12-09T02:04:28.032585",
     "exception": false,
     "start_time": "2021-12-09T02:04:25.056051",
     "status": "completed"
    },
    "tags": []
   },
   "outputs": [],
   "source": [
    "model = ImageClassifier().to(device)"
   ]
  },
  {
   "cell_type": "markdown",
   "id": "1b9afe6d",
   "metadata": {
    "papermill": {
     "duration": 0.033661,
     "end_time": "2021-12-09T02:04:28.101132",
     "exception": false,
     "start_time": "2021-12-09T02:04:28.067471",
     "status": "completed"
    },
    "tags": []
   },
   "source": [
    "View the architecture of the model."
   ]
  },
  {
   "cell_type": "code",
   "execution_count": 18,
   "id": "0d34d79e",
   "metadata": {
    "execution": {
     "iopub.execute_input": "2021-12-09T02:04:28.171976Z",
     "iopub.status.busy": "2021-12-09T02:04:28.171236Z",
     "iopub.status.idle": "2021-12-09T02:04:33.886587Z",
     "shell.execute_reply": "2021-12-09T02:04:33.887074Z",
     "shell.execute_reply.started": "2021-12-07T00:53:28.446945Z"
    },
    "papermill": {
     "duration": 5.753251,
     "end_time": "2021-12-09T02:04:33.887237",
     "exception": false,
     "start_time": "2021-12-09T02:04:28.133986",
     "status": "completed"
    },
    "tags": []
   },
   "outputs": [
    {
     "data": {
      "text/plain": [
       "==========================================================================================\n",
       "Layer (type:depth-idx)                   Output Shape              Param #\n",
       "==========================================================================================\n",
       "ImageClassifier                          --                        --\n",
       "├─Conv2d: 1-1                            [128, 32, 52, 52]         896\n",
       "├─BatchNorm2d: 1-2                       [128, 32, 52, 52]         64\n",
       "├─MaxPool2d: 1-3                         [128, 32, 26, 26]         --\n",
       "├─Conv2d: 1-4                            [128, 64, 28, 28]         18,496\n",
       "├─BatchNorm2d: 1-5                       [128, 64, 28, 28]         128\n",
       "├─MaxPool2d: 1-6                         [128, 64, 14, 14]         --\n",
       "├─Conv2d: 1-7                            [128, 128, 16, 16]        73,856\n",
       "├─BatchNorm2d: 1-8                       [128, 128, 16, 16]        256\n",
       "├─MaxPool2d: 1-9                         [128, 128, 8, 8]          --\n",
       "├─Conv2d: 1-10                           [128, 256, 10, 10]        295,168\n",
       "├─BatchNorm2d: 1-11                      [128, 256, 10, 10]        512\n",
       "├─MaxPool2d: 1-12                        [128, 256, 5, 5]          --\n",
       "├─Conv2d: 1-13                           [128, 512, 7, 7]          1,180,160\n",
       "├─BatchNorm2d: 1-14                      [128, 512, 7, 7]          1,024\n",
       "├─MaxPool2d: 1-15                        [128, 512, 3, 3]          --\n",
       "├─AdaptiveAvgPool2d: 1-16                [128, 512, 1, 1]          --\n",
       "├─Linear: 1-17                           [128, 2]                  1,026\n",
       "==========================================================================================\n",
       "Total params: 1,571,586\n",
       "Trainable params: 1,571,586\n",
       "Non-trainable params: 0\n",
       "Total mult-adds (G): 15.77\n",
       "==========================================================================================\n",
       "Input size (MB): 3.84\n",
       "Forward/backward pass size (MB): 450.89\n",
       "Params size (MB): 6.29\n",
       "Estimated Total Size (MB): 461.02\n",
       "=========================================================================================="
      ]
     },
     "execution_count": 18,
     "metadata": {},
     "output_type": "execute_result"
    }
   ],
   "source": [
    "torchinfo.summary(model,\n",
    "                  input_size = [BATCH_SIZE, 3, 50, 50],\n",
    "                  device = \"cuda\")"
   ]
  },
  {
   "cell_type": "markdown",
   "id": "af57a974",
   "metadata": {
    "papermill": {
     "duration": 0.03355,
     "end_time": "2021-12-09T02:04:33.955093",
     "exception": false,
     "start_time": "2021-12-09T02:04:33.921543",
     "status": "completed"
    },
    "tags": []
   },
   "source": [
    "# Loss function and optimizer"
   ]
  },
  {
   "cell_type": "markdown",
   "id": "e4c21488",
   "metadata": {
    "papermill": {
     "duration": 0.03297,
     "end_time": "2021-12-09T02:04:34.021226",
     "exception": false,
     "start_time": "2021-12-09T02:04:33.988256",
     "status": "completed"
    },
    "tags": []
   },
   "source": [
    "Select a loss function and an optimizer for the model."
   ]
  },
  {
   "cell_type": "code",
   "execution_count": 19,
   "id": "a9a3524f",
   "metadata": {
    "execution": {
     "iopub.execute_input": "2021-12-09T02:04:34.092068Z",
     "iopub.status.busy": "2021-12-09T02:04:34.091490Z",
     "iopub.status.idle": "2021-12-09T02:04:34.094168Z",
     "shell.execute_reply": "2021-12-09T02:04:34.094535Z",
     "shell.execute_reply.started": "2021-12-07T00:54:33.865262Z"
    },
    "papermill": {
     "duration": 0.03996,
     "end_time": "2021-12-09T02:04:34.094680",
     "exception": false,
     "start_time": "2021-12-09T02:04:34.054720",
     "status": "completed"
    },
    "tags": []
   },
   "outputs": [],
   "source": [
    "LEARNING_RATE = 0.002"
   ]
  },
  {
   "cell_type": "code",
   "execution_count": 20,
   "id": "c153a786",
   "metadata": {
    "execution": {
     "iopub.execute_input": "2021-12-09T02:04:34.168019Z",
     "iopub.status.busy": "2021-12-09T02:04:34.167237Z",
     "iopub.status.idle": "2021-12-09T02:04:34.169618Z",
     "shell.execute_reply": "2021-12-09T02:04:34.169205Z",
     "shell.execute_reply.started": "2021-12-07T00:54:37.859185Z"
    },
    "papermill": {
     "duration": 0.040223,
     "end_time": "2021-12-09T02:04:34.169755",
     "exception": false,
     "start_time": "2021-12-09T02:04:34.129532",
     "status": "completed"
    },
    "tags": []
   },
   "outputs": [],
   "source": [
    "loss_fn = nn.CrossEntropyLoss()\n",
    "optimizer = torch.optim.Adamax(params = model.parameters(),\n",
    "                               lr = LEARNING_RATE)"
   ]
  },
  {
   "cell_type": "markdown",
   "id": "b33f5c7b",
   "metadata": {
    "papermill": {
     "duration": 0.033159,
     "end_time": "2021-12-09T02:04:34.236322",
     "exception": false,
     "start_time": "2021-12-09T02:04:34.203163",
     "status": "completed"
    },
    "tags": []
   },
   "source": [
    "# Define the training function"
   ]
  },
  {
   "cell_type": "code",
   "execution_count": 21,
   "id": "aa450c23",
   "metadata": {
    "execution": {
     "iopub.execute_input": "2021-12-09T02:04:34.317910Z",
     "iopub.status.busy": "2021-12-09T02:04:34.311476Z",
     "iopub.status.idle": "2021-12-09T02:04:34.319797Z",
     "shell.execute_reply": "2021-12-09T02:04:34.320173Z",
     "shell.execute_reply.started": "2021-12-07T00:54:42.556677Z"
    },
    "papermill": {
     "duration": 0.050597,
     "end_time": "2021-12-09T02:04:34.320296",
     "exception": false,
     "start_time": "2021-12-09T02:04:34.269699",
     "status": "completed"
    },
    "tags": []
   },
   "outputs": [],
   "source": [
    "def train(iterator_train,\n",
    "          iterator_valid,\n",
    "          model,\n",
    "          loss_fn,\n",
    "          optimizer,\n",
    "          device,\n",
    "          n_epochs = 5):\n",
    "    \n",
    "    # initialize the history list which will contain all losses and metrics\n",
    "    \n",
    "    history_list = []\n",
    "    \n",
    "    for i in range(n_epochs):\n",
    "        \n",
    "        # start setting up the training procedure\n",
    "        \n",
    "        print(f\"Epoch {i+1}\")\n",
    "        print(\"-------------------------------\")\n",
    "    \n",
    "        train_size = len(iterator_train.dataset)\n",
    "        n_train_batches = len(iterator_train)\n",
    "        train_loss = 0\n",
    "        average_train_loss = 0\n",
    "        train_n_correct = 0\n",
    "        train_accuracy = 0\n",
    "    \n",
    "        # set the model to training mode\n",
    "        \n",
    "        model.train()\n",
    "    \n",
    "        for train_batch, (X, y) in enumerate(iterator_train):\n",
    "        \n",
    "            # copy the tensors to the GPU\n",
    "        \n",
    "            X = X.to(device)\n",
    "            y = y.to(device)\n",
    "            \n",
    "            # reset the gradients of the model parameters to zero\n",
    "            \n",
    "            optimizer.zero_grad()\n",
    "            \n",
    "            # obtain the model prediction and loss\n",
    "            \n",
    "            pred = model(X)\n",
    "            loss = loss_fn(pred, y)\n",
    "            \n",
    "            # backpropagate the loss and deposit each gradient in place\n",
    "            \n",
    "            loss.backward()\n",
    "            \n",
    "            # adjust the parameters using the gradients collected in the backward pass\n",
    "            \n",
    "            optimizer.step()\n",
    "            \n",
    "            # increment the validation loss and the number of correctly labeled instances\n",
    "            # build up these aggregate values instance by instance\n",
    "                \n",
    "            train_loss += loss.item()\n",
    "            train_n_correct += (pred.argmax(1) == y).type(torch.float).sum().item()\n",
    "            \n",
    "            # display the training loss after every hundredth batch is trained\n",
    "        \n",
    "            if train_batch % 100 == 0:\n",
    "                loss = loss.item()\n",
    "                current_instance = train_batch * len(X)\n",
    "                print(f\"Loss: {loss:.6f} [{current_instance:5f} / {train_size:5f}]\")\n",
    "                \n",
    "        # obtain average training loss and accuracy for the entire epoch\n",
    "        \n",
    "        average_train_loss = train_loss / n_train_batches\n",
    "        train_accuracy = train_n_correct / train_size\n",
    "                \n",
    "        # after training is finished, start validation\n",
    "        \n",
    "        valid_size = len(iterator_valid.dataset)\n",
    "        n_valid_batches = len(iterator_valid)\n",
    "        valid_loss = 0\n",
    "        average_valid_loss = 0\n",
    "        valid_n_correct = 0\n",
    "        valid_accuracy = 0\n",
    "        \n",
    "        with torch.no_grad():\n",
    "            \n",
    "            # set the model to evaluation mode\n",
    "            \n",
    "            model.eval()\n",
    "            \n",
    "            for X, y in iterator_valid:\n",
    "                \n",
    "                # copy the tensors to the GPU\n",
    "                \n",
    "                X = X.to(device)\n",
    "                y = y.to(device)\n",
    "                \n",
    "                # obtain the model prediction and loss\n",
    "                \n",
    "                pred = model(X)\n",
    "                loss = loss_fn(pred, y)\n",
    "                \n",
    "                # increment the validation loss and the number of correctly labeled instances\n",
    "                # build up aggregate values instance by instance\n",
    "                \n",
    "                valid_loss += loss.item()\n",
    "                valid_n_correct += (pred.argmax(1) == y).type(torch.float).sum().item()\n",
    "                \n",
    "        # obtain average validation loss and accuracy for the entire epoch\n",
    "        \n",
    "        average_valid_loss = valid_loss / n_valid_batches\n",
    "        valid_accuracy = valid_n_correct / valid_size\n",
    "        \n",
    "        print(\"Validation error:\")\n",
    "        print(f\"Accuracy: {valid_accuracy:.6f}, Average loss: {average_valid_loss:.6f}\")\n",
    "        print()\n",
    "        \n",
    "        history_list.append([average_train_loss, average_valid_loss, train_accuracy, valid_accuracy])\n",
    "    \n",
    "    # display a message indicating training has finished\n",
    "    \n",
    "    print()\n",
    "    print(\"Done!\")\n",
    "    \n",
    "    # create a data frame containing the entire training and validation history\n",
    "    \n",
    "    history = pd.DataFrame(data = history_list,\n",
    "                           columns = [\"average_train_loss\", \"average_valid_loss\", \n",
    "                                      \"train_accuracy\", \"valid_accuracy\"])\n",
    "    \n",
    "    return model, history"
   ]
  },
  {
   "cell_type": "markdown",
   "id": "412b60f1",
   "metadata": {
    "papermill": {
     "duration": 0.033164,
     "end_time": "2021-12-09T02:04:34.387218",
     "exception": false,
     "start_time": "2021-12-09T02:04:34.354054",
     "status": "completed"
    },
    "tags": []
   },
   "source": [
    "# Train the model"
   ]
  },
  {
   "cell_type": "markdown",
   "id": "d93f3f62",
   "metadata": {
    "papermill": {
     "duration": 0.033361,
     "end_time": "2021-12-09T02:04:34.453678",
     "exception": false,
     "start_time": "2021-12-09T02:04:34.420317",
     "status": "completed"
    },
    "tags": []
   },
   "source": [
    "Pick a suitable number of epochs."
   ]
  },
  {
   "cell_type": "code",
   "execution_count": 22,
   "id": "e7524aba",
   "metadata": {
    "execution": {
     "iopub.execute_input": "2021-12-09T02:04:34.525501Z",
     "iopub.status.busy": "2021-12-09T02:04:34.524014Z",
     "iopub.status.idle": "2021-12-09T02:04:34.526140Z",
     "shell.execute_reply": "2021-12-09T02:04:34.526528Z",
     "shell.execute_reply.started": "2021-12-07T00:54:50.224563Z"
    },
    "papermill": {
     "duration": 0.039132,
     "end_time": "2021-12-09T02:04:34.526673",
     "exception": false,
     "start_time": "2021-12-09T02:04:34.487541",
     "status": "completed"
    },
    "tags": []
   },
   "outputs": [],
   "source": [
    "N_EPOCHS = 10"
   ]
  },
  {
   "cell_type": "markdown",
   "id": "f7d185d3",
   "metadata": {
    "papermill": {
     "duration": 0.032982,
     "end_time": "2021-12-09T02:04:34.593246",
     "exception": false,
     "start_time": "2021-12-09T02:04:34.560264",
     "status": "completed"
    },
    "tags": []
   },
   "source": [
    "Train the model."
   ]
  },
  {
   "cell_type": "code",
   "execution_count": 23,
   "id": "5226588c",
   "metadata": {
    "execution": {
     "iopub.execute_input": "2021-12-09T02:04:34.665188Z",
     "iopub.status.busy": "2021-12-09T02:04:34.664550Z",
     "iopub.status.idle": "2021-12-09T05:16:42.042915Z",
     "shell.execute_reply": "2021-12-09T05:16:42.043586Z",
     "shell.execute_reply.started": "2021-12-07T00:54:54.479216Z"
    },
    "papermill": {
     "duration": 11527.417432,
     "end_time": "2021-12-09T05:16:42.043835",
     "exception": false,
     "start_time": "2021-12-09T02:04:34.626403",
     "status": "completed"
    },
    "tags": []
   },
   "outputs": [
    {
     "name": "stdout",
     "output_type": "stream",
     "text": [
      "Epoch 1\n",
      "-------------------------------\n",
      "Loss: 0.658856 [0.000000 / 224793.000000]\n",
      "Loss: 0.331967 [12800.000000 / 224793.000000]\n",
      "Loss: 0.312818 [25600.000000 / 224793.000000]\n",
      "Loss: 0.456056 [38400.000000 / 224793.000000]\n",
      "Loss: 0.334593 [51200.000000 / 224793.000000]\n",
      "Loss: 0.442868 [64000.000000 / 224793.000000]\n",
      "Loss: 0.331023 [76800.000000 / 224793.000000]\n",
      "Loss: 0.342211 [89600.000000 / 224793.000000]\n",
      "Loss: 0.314905 [102400.000000 / 224793.000000]\n",
      "Loss: 0.314695 [115200.000000 / 224793.000000]\n",
      "Loss: 0.256675 [128000.000000 / 224793.000000]\n",
      "Loss: 0.297748 [140800.000000 / 224793.000000]\n",
      "Loss: 0.314057 [153600.000000 / 224793.000000]\n",
      "Loss: 0.322683 [166400.000000 / 224793.000000]\n",
      "Loss: 0.306443 [179200.000000 / 224793.000000]\n",
      "Loss: 0.352373 [192000.000000 / 224793.000000]\n",
      "Loss: 0.316097 [204800.000000 / 224793.000000]\n",
      "Loss: 0.315962 [217600.000000 / 224793.000000]\n",
      "Validation error:\n",
      "Accuracy: 0.865602, Average loss: 0.307617\n",
      "\n",
      "Epoch 2\n",
      "-------------------------------\n",
      "Loss: 0.355649 [0.000000 / 224793.000000]\n",
      "Loss: 0.278072 [12800.000000 / 224793.000000]\n",
      "Loss: 0.267564 [25600.000000 / 224793.000000]\n",
      "Loss: 0.264629 [38400.000000 / 224793.000000]\n",
      "Loss: 0.323332 [51200.000000 / 224793.000000]\n",
      "Loss: 0.423721 [64000.000000 / 224793.000000]\n",
      "Loss: 0.236176 [76800.000000 / 224793.000000]\n",
      "Loss: 0.173661 [89600.000000 / 224793.000000]\n",
      "Loss: 0.261150 [102400.000000 / 224793.000000]\n",
      "Loss: 0.299433 [115200.000000 / 224793.000000]\n",
      "Loss: 0.335262 [128000.000000 / 224793.000000]\n",
      "Loss: 0.224465 [140800.000000 / 224793.000000]\n",
      "Loss: 0.210543 [153600.000000 / 224793.000000]\n",
      "Loss: 0.266682 [166400.000000 / 224793.000000]\n",
      "Loss: 0.256422 [179200.000000 / 224793.000000]\n",
      "Loss: 0.272972 [192000.000000 / 224793.000000]\n",
      "Loss: 0.279846 [204800.000000 / 224793.000000]\n",
      "Loss: 0.210573 [217600.000000 / 224793.000000]\n",
      "Validation error:\n",
      "Accuracy: 0.884298, Average loss: 0.272139\n",
      "\n",
      "Epoch 3\n",
      "-------------------------------\n",
      "Loss: 0.234926 [0.000000 / 224793.000000]\n",
      "Loss: 0.394731 [12800.000000 / 224793.000000]\n",
      "Loss: 0.186388 [25600.000000 / 224793.000000]\n",
      "Loss: 0.212867 [38400.000000 / 224793.000000]\n",
      "Loss: 0.289773 [51200.000000 / 224793.000000]\n",
      "Loss: 0.240827 [64000.000000 / 224793.000000]\n",
      "Loss: 0.300134 [76800.000000 / 224793.000000]\n",
      "Loss: 0.234074 [89600.000000 / 224793.000000]\n",
      "Loss: 0.317543 [102400.000000 / 224793.000000]\n",
      "Loss: 0.278436 [115200.000000 / 224793.000000]\n",
      "Loss: 0.370118 [128000.000000 / 224793.000000]\n",
      "Loss: 0.209540 [140800.000000 / 224793.000000]\n",
      "Loss: 0.225370 [153600.000000 / 224793.000000]\n",
      "Loss: 0.256572 [166400.000000 / 224793.000000]\n",
      "Loss: 0.315878 [179200.000000 / 224793.000000]\n",
      "Loss: 0.358068 [192000.000000 / 224793.000000]\n",
      "Loss: 0.249194 [204800.000000 / 224793.000000]\n",
      "Loss: 0.338012 [217600.000000 / 224793.000000]\n",
      "Validation error:\n",
      "Accuracy: 0.889503, Average loss: 0.260751\n",
      "\n",
      "Epoch 4\n",
      "-------------------------------\n",
      "Loss: 0.182491 [0.000000 / 224793.000000]\n",
      "Loss: 0.261951 [12800.000000 / 224793.000000]\n",
      "Loss: 0.279035 [25600.000000 / 224793.000000]\n",
      "Loss: 0.305299 [38400.000000 / 224793.000000]\n",
      "Loss: 0.293317 [51200.000000 / 224793.000000]\n",
      "Loss: 0.359541 [64000.000000 / 224793.000000]\n",
      "Loss: 0.205337 [76800.000000 / 224793.000000]\n",
      "Loss: 0.240325 [89600.000000 / 224793.000000]\n",
      "Loss: 0.363580 [102400.000000 / 224793.000000]\n",
      "Loss: 0.261763 [115200.000000 / 224793.000000]\n",
      "Loss: 0.273105 [128000.000000 / 224793.000000]\n",
      "Loss: 0.136271 [140800.000000 / 224793.000000]\n",
      "Loss: 0.258429 [153600.000000 / 224793.000000]\n",
      "Loss: 0.316693 [166400.000000 / 224793.000000]\n",
      "Loss: 0.332095 [179200.000000 / 224793.000000]\n",
      "Loss: 0.241861 [192000.000000 / 224793.000000]\n",
      "Loss: 0.203438 [204800.000000 / 224793.000000]\n",
      "Loss: 0.208129 [217600.000000 / 224793.000000]\n",
      "Validation error:\n",
      "Accuracy: 0.888782, Average loss: 0.262862\n",
      "\n",
      "Epoch 5\n",
      "-------------------------------\n",
      "Loss: 0.298388 [0.000000 / 224793.000000]\n",
      "Loss: 0.242247 [12800.000000 / 224793.000000]\n",
      "Loss: 0.247431 [25600.000000 / 224793.000000]\n",
      "Loss: 0.197606 [38400.000000 / 224793.000000]\n",
      "Loss: 0.199295 [51200.000000 / 224793.000000]\n",
      "Loss: 0.188440 [64000.000000 / 224793.000000]\n",
      "Loss: 0.295243 [76800.000000 / 224793.000000]\n",
      "Loss: 0.207686 [89600.000000 / 224793.000000]\n",
      "Loss: 0.269229 [102400.000000 / 224793.000000]\n",
      "Loss: 0.246845 [115200.000000 / 224793.000000]\n",
      "Loss: 0.188569 [128000.000000 / 224793.000000]\n",
      "Loss: 0.268123 [140800.000000 / 224793.000000]\n",
      "Loss: 0.233442 [153600.000000 / 224793.000000]\n",
      "Loss: 0.232427 [166400.000000 / 224793.000000]\n",
      "Loss: 0.247148 [179200.000000 / 224793.000000]\n",
      "Loss: 0.272569 [192000.000000 / 224793.000000]\n",
      "Loss: 0.255899 [204800.000000 / 224793.000000]\n",
      "Loss: 0.178167 [217600.000000 / 224793.000000]\n",
      "Validation error:\n",
      "Accuracy: 0.891104, Average loss: 0.263904\n",
      "\n",
      "Epoch 6\n",
      "-------------------------------\n",
      "Loss: 0.243550 [0.000000 / 224793.000000]\n",
      "Loss: 0.230677 [12800.000000 / 224793.000000]\n",
      "Loss: 0.257907 [25600.000000 / 224793.000000]\n",
      "Loss: 0.219894 [38400.000000 / 224793.000000]\n",
      "Loss: 0.348763 [51200.000000 / 224793.000000]\n",
      "Loss: 0.256136 [64000.000000 / 224793.000000]\n",
      "Loss: 0.254375 [76800.000000 / 224793.000000]\n",
      "Loss: 0.209394 [89600.000000 / 224793.000000]\n",
      "Loss: 0.344023 [102400.000000 / 224793.000000]\n",
      "Loss: 0.264494 [115200.000000 / 224793.000000]\n",
      "Loss: 0.229712 [128000.000000 / 224793.000000]\n",
      "Loss: 0.197670 [140800.000000 / 224793.000000]\n",
      "Loss: 0.253300 [153600.000000 / 224793.000000]\n",
      "Loss: 0.230802 [166400.000000 / 224793.000000]\n",
      "Loss: 0.233741 [179200.000000 / 224793.000000]\n",
      "Loss: 0.283619 [192000.000000 / 224793.000000]\n",
      "Loss: 0.230015 [204800.000000 / 224793.000000]\n",
      "Loss: 0.205012 [217600.000000 / 224793.000000]\n",
      "Validation error:\n",
      "Accuracy: 0.900432, Average loss: 0.242936\n",
      "\n",
      "Epoch 7\n",
      "-------------------------------\n",
      "Loss: 0.299160 [0.000000 / 224793.000000]\n",
      "Loss: 0.128785 [12800.000000 / 224793.000000]\n",
      "Loss: 0.266757 [25600.000000 / 224793.000000]\n",
      "Loss: 0.287373 [38400.000000 / 224793.000000]\n",
      "Loss: 0.292560 [51200.000000 / 224793.000000]\n",
      "Loss: 0.125675 [64000.000000 / 224793.000000]\n",
      "Loss: 0.219926 [76800.000000 / 224793.000000]\n",
      "Loss: 0.341211 [89600.000000 / 224793.000000]\n",
      "Loss: 0.208170 [102400.000000 / 224793.000000]\n",
      "Loss: 0.282691 [115200.000000 / 224793.000000]\n",
      "Loss: 0.312489 [128000.000000 / 224793.000000]\n",
      "Loss: 0.231610 [140800.000000 / 224793.000000]\n",
      "Loss: 0.177089 [153600.000000 / 224793.000000]\n",
      "Loss: 0.234328 [166400.000000 / 224793.000000]\n",
      "Loss: 0.257839 [179200.000000 / 224793.000000]\n",
      "Loss: 0.162108 [192000.000000 / 224793.000000]\n",
      "Loss: 0.255932 [204800.000000 / 224793.000000]\n",
      "Loss: 0.178677 [217600.000000 / 224793.000000]\n",
      "Validation error:\n",
      "Accuracy: 0.878613, Average loss: 0.282993\n",
      "\n",
      "Epoch 8\n",
      "-------------------------------\n",
      "Loss: 0.210409 [0.000000 / 224793.000000]\n",
      "Loss: 0.241094 [12800.000000 / 224793.000000]\n",
      "Loss: 0.199457 [25600.000000 / 224793.000000]\n",
      "Loss: 0.202547 [38400.000000 / 224793.000000]\n",
      "Loss: 0.241924 [51200.000000 / 224793.000000]\n",
      "Loss: 0.239292 [64000.000000 / 224793.000000]\n",
      "Loss: 0.196809 [76800.000000 / 224793.000000]\n",
      "Loss: 0.211507 [89600.000000 / 224793.000000]\n",
      "Loss: 0.409055 [102400.000000 / 224793.000000]\n",
      "Loss: 0.161888 [115200.000000 / 224793.000000]\n",
      "Loss: 0.208158 [128000.000000 / 224793.000000]\n",
      "Loss: 0.170160 [140800.000000 / 224793.000000]\n",
      "Loss: 0.222588 [153600.000000 / 224793.000000]\n",
      "Loss: 0.298161 [166400.000000 / 224793.000000]\n",
      "Loss: 0.216362 [179200.000000 / 224793.000000]\n",
      "Loss: 0.182031 [192000.000000 / 224793.000000]\n",
      "Loss: 0.294101 [204800.000000 / 224793.000000]\n",
      "Loss: 0.166182 [217600.000000 / 224793.000000]\n",
      "Validation error:\n",
      "Accuracy: 0.898070, Average loss: 0.248358\n",
      "\n",
      "Epoch 9\n",
      "-------------------------------\n",
      "Loss: 0.236063 [0.000000 / 224793.000000]\n",
      "Loss: 0.311085 [12800.000000 / 224793.000000]\n",
      "Loss: 0.214554 [25600.000000 / 224793.000000]\n",
      "Loss: 0.153291 [38400.000000 / 224793.000000]\n",
      "Loss: 0.237629 [51200.000000 / 224793.000000]\n",
      "Loss: 0.333405 [64000.000000 / 224793.000000]\n",
      "Loss: 0.164895 [76800.000000 / 224793.000000]\n",
      "Loss: 0.235018 [89600.000000 / 224793.000000]\n",
      "Loss: 0.203465 [102400.000000 / 224793.000000]\n",
      "Loss: 0.335744 [115200.000000 / 224793.000000]\n",
      "Loss: 0.247491 [128000.000000 / 224793.000000]\n",
      "Loss: 0.307683 [140800.000000 / 224793.000000]\n",
      "Loss: 0.226453 [153600.000000 / 224793.000000]\n",
      "Loss: 0.226313 [166400.000000 / 224793.000000]\n",
      "Loss: 0.164936 [179200.000000 / 224793.000000]\n",
      "Loss: 0.185276 [192000.000000 / 224793.000000]\n",
      "Loss: 0.282623 [204800.000000 / 224793.000000]\n",
      "Loss: 0.269933 [217600.000000 / 224793.000000]\n",
      "Validation error:\n",
      "Accuracy: 0.903395, Average loss: 0.238974\n",
      "\n",
      "Epoch 10\n",
      "-------------------------------\n",
      "Loss: 0.166972 [0.000000 / 224793.000000]\n",
      "Loss: 0.295647 [12800.000000 / 224793.000000]\n",
      "Loss: 0.155460 [25600.000000 / 224793.000000]\n",
      "Loss: 0.264051 [38400.000000 / 224793.000000]\n",
      "Loss: 0.252828 [51200.000000 / 224793.000000]\n",
      "Loss: 0.272122 [64000.000000 / 224793.000000]\n",
      "Loss: 0.228731 [76800.000000 / 224793.000000]\n",
      "Loss: 0.206681 [89600.000000 / 224793.000000]\n",
      "Loss: 0.140005 [102400.000000 / 224793.000000]\n",
      "Loss: 0.215768 [115200.000000 / 224793.000000]\n",
      "Loss: 0.206132 [128000.000000 / 224793.000000]\n",
      "Loss: 0.361420 [140800.000000 / 224793.000000]\n",
      "Loss: 0.153655 [153600.000000 / 224793.000000]\n",
      "Loss: 0.229136 [166400.000000 / 224793.000000]\n",
      "Loss: 0.170113 [179200.000000 / 224793.000000]\n",
      "Loss: 0.297451 [192000.000000 / 224793.000000]\n",
      "Loss: 0.300385 [204800.000000 / 224793.000000]\n",
      "Loss: 0.212224 [217600.000000 / 224793.000000]\n",
      "Validation error:\n",
      "Accuracy: 0.904436, Average loss: 0.226563\n",
      "\n",
      "\n",
      "Done!\n"
     ]
    }
   ],
   "source": [
    "model, history = train(iterator_train = iterator_train,\n",
    "                       iterator_valid = iterator_valid,\n",
    "                       model = model,\n",
    "                       loss_fn = loss_fn,\n",
    "                       optimizer = optimizer,\n",
    "                       device = device,\n",
    "                       n_epochs = N_EPOCHS)"
   ]
  },
  {
   "cell_type": "markdown",
   "id": "5af36147",
   "metadata": {
    "papermill": {
     "duration": 0.082154,
     "end_time": "2021-12-09T05:16:42.209243",
     "exception": false,
     "start_time": "2021-12-09T05:16:42.127089",
     "status": "completed"
    },
    "tags": []
   },
   "source": [
    "Visualize the loss."
   ]
  },
  {
   "cell_type": "code",
   "execution_count": 24,
   "id": "f9999ed9",
   "metadata": {
    "execution": {
     "iopub.execute_input": "2021-12-09T05:16:42.380193Z",
     "iopub.status.busy": "2021-12-09T05:16:42.379644Z",
     "iopub.status.idle": "2021-12-09T05:16:42.618003Z",
     "shell.execute_reply": "2021-12-09T05:16:42.618484Z",
     "shell.execute_reply.started": "2021-12-07T04:12:14.577762Z"
    },
    "papermill": {
     "duration": 0.328438,
     "end_time": "2021-12-09T05:16:42.618636",
     "exception": false,
     "start_time": "2021-12-09T05:16:42.290198",
     "status": "completed"
    },
    "tags": []
   },
   "outputs": [
    {
     "data": {
      "image/png": "[encoded data removed]",
      "text/plain": [
       "<Figure size 720x576 with 1 Axes>"
      ]
     },
     "metadata": {
      "needs_background": "light"
     },
     "output_type": "display_data"
    }
   ],
   "source": [
    "plt.figure(figsize = [10, 8])\n",
    "plt.plot(history[\"average_train_loss\"],\n",
    "         label = \"Average training loss\")\n",
    "plt.plot(history[\"average_valid_loss\"],\n",
    "         label = \"Average validation loss\")\n",
    "plt.legend()\n",
    "plt.xlabel(\"Epoch\")\n",
    "plt.ylabel(\"Average loss\")\n",
    "plt.title(\"Loss plot\")\n",
    "plt.show()"
   ]
  },
  {
   "cell_type": "markdown",
   "id": "d0658cbf",
   "metadata": {
    "papermill": {
     "duration": 0.08375,
     "end_time": "2021-12-09T05:16:42.785310",
     "exception": false,
     "start_time": "2021-12-09T05:16:42.701560",
     "status": "completed"
    },
    "tags": []
   },
   "source": [
    "Visualize the accuracy."
   ]
  },
  {
   "cell_type": "code",
   "execution_count": 25,
   "id": "462661d9",
   "metadata": {
    "execution": {
     "iopub.execute_input": "2021-12-09T05:16:42.962880Z",
     "iopub.status.busy": "2021-12-09T05:16:42.959636Z",
     "iopub.status.idle": "2021-12-09T05:16:43.157303Z",
     "shell.execute_reply": "2021-12-09T05:16:43.157730Z",
     "shell.execute_reply.started": "2021-12-07T04:12:26.326920Z"
    },
    "papermill": {
     "duration": 0.289934,
     "end_time": "2021-12-09T05:16:43.157879",
     "exception": false,
     "start_time": "2021-12-09T05:16:42.867945",
     "status": "completed"
    },
    "tags": []
   },
   "outputs": [
    {
     "data": {
      "image/png": "[encoded data removed]",
      "text/plain": [
       "<Figure size 720x576 with 1 Axes>"
      ]
     },
     "metadata": {
      "needs_background": "light"
     },
     "output_type": "display_data"
    }
   ],
   "source": [
    "plt.figure(figsize = [10, 8])\n",
    "plt.plot(history[\"train_accuracy\"],\n",
    "         label = \"Training accuracy\")\n",
    "plt.plot(history[\"valid_accuracy\"],\n",
    "         label = \"Validation accuracy\")\n",
    "plt.legend()\n",
    "plt.xlabel(\"Epoch\")\n",
    "plt.ylabel(\"Accuracy\")\n",
    "plt.title(\"Accuracy plot\")\n",
    "plt.show()"
   ]
  },
  {
   "cell_type": "markdown",
   "id": "2c199785",
   "metadata": {
    "papermill": {
     "duration": 0.084487,
     "end_time": "2021-12-09T05:16:43.327633",
     "exception": false,
     "start_time": "2021-12-09T05:16:43.243146",
     "status": "completed"
    },
    "tags": []
   },
   "source": [
    "# Evaluate the model"
   ]
  },
  {
   "cell_type": "markdown",
   "id": "c59946cb",
   "metadata": {
    "papermill": {
     "duration": 0.084178,
     "end_time": "2021-12-09T05:16:43.495983",
     "exception": false,
     "start_time": "2021-12-09T05:16:43.411805",
     "status": "completed"
    },
    "tags": []
   },
   "source": [
    "Define the evaluation function."
   ]
  },
  {
   "cell_type": "code",
   "execution_count": 26,
   "id": "f6655748",
   "metadata": {
    "execution": {
     "iopub.execute_input": "2021-12-09T05:16:43.675200Z",
     "iopub.status.busy": "2021-12-09T05:16:43.673527Z",
     "iopub.status.idle": "2021-12-09T05:16:43.675811Z",
     "shell.execute_reply": "2021-12-09T05:16:43.676234Z",
     "shell.execute_reply.started": "2021-12-07T04:12:37.111734Z"
    },
    "papermill": {
     "duration": 0.095258,
     "end_time": "2021-12-09T05:16:43.676372",
     "exception": false,
     "start_time": "2021-12-09T05:16:43.581114",
     "status": "completed"
    },
    "tags": []
   },
   "outputs": [],
   "source": [
    "def evaluate(iterator_test, \n",
    "             model, \n",
    "             loss_fn,\n",
    "             device):\n",
    "    \n",
    "    size = len(iterator_test.dataset)\n",
    "    num_batches = len(iterator_test)\n",
    "    test_loss = 0\n",
    "    correct = 0\n",
    "    \n",
    "    with torch.no_grad():\n",
    "        for X, y in iterator_test:\n",
    "            X = X.to(device)\n",
    "            y = y.to(device)\n",
    "            pred = model(X)\n",
    "            test_loss += loss_fn(pred, y).item()\n",
    "            correct += (pred.argmax(1) == y).type(torch.float).sum().item()\n",
    "    \n",
    "    average_loss = test_loss / num_batches\n",
    "    accuracy = correct / size\n",
    "    \n",
    "    print(\"Test error:\")\n",
    "    print(f\"Accuracy: {accuracy:.6f}, Average loss: {average_loss:.6f}\")"
   ]
  },
  {
   "cell_type": "markdown",
   "id": "e99e7b44",
   "metadata": {
    "papermill": {
     "duration": 0.084907,
     "end_time": "2021-12-09T05:16:43.847336",
     "exception": false,
     "start_time": "2021-12-09T05:16:43.762429",
     "status": "completed"
    },
    "tags": []
   },
   "source": [
    "Evaluate the model."
   ]
  },
  {
   "cell_type": "code",
   "execution_count": 27,
   "id": "e7cf58b9",
   "metadata": {
    "execution": {
     "iopub.execute_input": "2021-12-09T05:16:44.020970Z",
     "iopub.status.busy": "2021-12-09T05:16:44.018282Z",
     "iopub.status.idle": "2021-12-09T05:20:44.004557Z",
     "shell.execute_reply": "2021-12-09T05:20:44.005252Z",
     "shell.execute_reply.started": "2021-12-07T04:12:42.117673Z"
    },
    "papermill": {
     "duration": 240.073826,
     "end_time": "2021-12-09T05:20:44.005467",
     "exception": false,
     "start_time": "2021-12-09T05:16:43.931641",
     "status": "completed"
    },
    "tags": []
   },
   "outputs": [
    {
     "name": "stdout",
     "output_type": "stream",
     "text": [
      "Test error:\n",
      "Accuracy: 0.905740, Average loss: 0.229406\n"
     ]
    }
   ],
   "source": [
    "evaluate(iterator_test = iterator_test,\n",
    "         model = model,\n",
    "         loss_fn = loss_fn,\n",
    "         device = device)"
   ]
  },
  {
   "cell_type": "markdown",
   "id": "3786efca",
   "metadata": {
    "papermill": {
     "duration": 0.083911,
     "end_time": "2021-12-09T05:20:44.174717",
     "exception": false,
     "start_time": "2021-12-09T05:20:44.090806",
     "status": "completed"
    },
    "tags": []
   },
   "source": [
    "# Save the model"
   ]
  },
  {
   "cell_type": "markdown",
   "id": "098679a4",
   "metadata": {
    "papermill": {
     "duration": 0.083271,
     "end_time": "2021-12-09T05:20:44.341276",
     "exception": false,
     "start_time": "2021-12-09T05:20:44.258005",
     "status": "completed"
    },
    "tags": []
   },
   "source": [
    "Save the model to disk."
   ]
  },
  {
   "cell_type": "code",
   "execution_count": 28,
   "id": "91bdd144",
   "metadata": {
    "execution": {
     "iopub.execute_input": "2021-12-09T05:20:44.517247Z",
     "iopub.status.busy": "2021-12-09T05:20:44.516706Z",
     "iopub.status.idle": "2021-12-09T05:20:44.533725Z",
     "shell.execute_reply": "2021-12-09T05:20:44.533253Z",
     "shell.execute_reply.started": "2021-12-07T04:17:01.544430Z"
    },
    "papermill": {
     "duration": 0.109447,
     "end_time": "2021-12-09T05:20:44.533840",
     "exception": false,
     "start_time": "2021-12-09T05:20:44.424393",
     "status": "completed"
    },
    "tags": []
   },
   "outputs": [],
   "source": [
    "torch.save(model, \n",
    "           \"pytorch-vgg16-cifar-10-model.pth\")"
   ]
  }
 ],
 "metadata": {
  "kernelspec": {
   "display_name": "Python 3",
   "language": "python",
   "name": "python3"
  },
  "language_info": {
   "codemirror_mode": {
    "name": "ipython",
    "version": 3
   },
   "file_extension": ".py",
   "mimetype": "text/x-python",
   "name": "python",
   "nbconvert_exporter": "python",
   "pygments_lexer": "ipython3",
   "version": "3.7.12"
  },
  "papermill": {
   "default_parameters": {},
   "duration": 12729.166805,
   "end_time": "2021-12-09T05:20:46.875685",
   "environment_variables": {},
   "exception": null,
   "input_path": "__notebook__.ipynb",
   "output_path": "__notebook__.ipynb",
   "parameters": {},
   "start_time": "2021-12-09T01:48:37.708880",
   "version": "2.3.3"
  }
 },
 "nbformat": 4,
 "nbformat_minor": 5
}
