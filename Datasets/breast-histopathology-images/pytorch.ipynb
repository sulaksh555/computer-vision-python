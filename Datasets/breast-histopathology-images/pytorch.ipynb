{
 "cells": [
  {
   "cell_type": "markdown",
   "id": "c64e8740",
   "metadata": {
    "papermill": {
     "duration": 0.033788,
     "end_time": "2021-12-07T04:18:21.879778",
     "exception": false,
     "start_time": "2021-12-07T04:18:21.845990",
     "status": "completed"
    },
    "tags": []
   },
   "source": [
    "# Setup"
   ]
  },
  {
   "cell_type": "code",
   "execution_count": 1,
   "id": "8b794c49",
   "metadata": {
    "execution": {
     "iopub.execute_input": "2021-12-07T04:18:21.954777Z",
     "iopub.status.busy": "2021-12-07T04:18:21.953097Z",
     "iopub.status.idle": "2021-12-07T04:18:31.137268Z",
     "shell.execute_reply": "2021-12-07T04:18:31.136605Z",
     "shell.execute_reply.started": "2021-12-07T00:35:29.277501Z"
    },
    "papermill": {
     "duration": 9.225895,
     "end_time": "2021-12-07T04:18:31.137435",
     "exception": false,
     "start_time": "2021-12-07T04:18:21.911540",
     "status": "completed"
    },
    "tags": []
   },
   "outputs": [
    {
     "name": "stdout",
     "output_type": "stream",
     "text": [
      "Collecting torchinfo\r\n",
      "  Downloading torchinfo-1.5.4-py3-none-any.whl (19 kB)\r\n",
      "Installing collected packages: torchinfo\r\n",
      "Successfully installed torchinfo-1.5.4\r\n",
      "\u001b[33mWARNING: Running pip as the 'root' user can result in broken permissions and conflicting behaviour with the system package manager. It is recommended to use a virtual environment instead: https://pip.pypa.io/warnings/venv\u001b[0m\r\n"
     ]
    }
   ],
   "source": [
    "! pip install torchinfo"
   ]
  },
  {
   "cell_type": "code",
   "execution_count": 2,
   "id": "4c3265c6",
   "metadata": {
    "execution": {
     "iopub.execute_input": "2021-12-07T04:18:31.209847Z",
     "iopub.status.busy": "2021-12-07T04:18:31.209039Z",
     "iopub.status.idle": "2021-12-07T04:18:33.746261Z",
     "shell.execute_reply": "2021-12-07T04:18:33.745712Z",
     "shell.execute_reply.started": "2021-12-07T04:12:06.447628Z"
    },
    "papermill": {
     "duration": 2.575445,
     "end_time": "2021-12-07T04:18:33.746388",
     "exception": false,
     "start_time": "2021-12-07T04:18:31.170943",
     "status": "completed"
    },
    "tags": []
   },
   "outputs": [],
   "source": [
    "import pandas as pd\n",
    "import matplotlib.pyplot as plt\n",
    "from sklearn.model_selection import train_test_split\n",
    "import torch\n",
    "from torch import nn\n",
    "import torch.nn.functional as F\n",
    "from torch.utils.data import DataLoader\n",
    "from torchvision import transforms\n",
    "import torchinfo\n",
    "from glob import glob\n",
    "import fnmatch\n",
    "import cv2"
   ]
  },
  {
   "cell_type": "markdown",
   "id": "2bf3f5f8",
   "metadata": {
    "papermill": {
     "duration": 0.03333,
     "end_time": "2021-12-07T04:18:33.814571",
     "exception": false,
     "start_time": "2021-12-07T04:18:33.781241",
     "status": "completed"
    },
    "tags": []
   },
   "source": [
    "# Load the data"
   ]
  },
  {
   "cell_type": "markdown",
   "id": "f8ffa658",
   "metadata": {
    "papermill": {
     "duration": 0.031986,
     "end_time": "2021-12-07T04:18:33.878743",
     "exception": false,
     "start_time": "2021-12-07T04:18:33.846757",
     "status": "completed"
    },
    "tags": []
   },
   "source": [
    "Load all images in bulk."
   ]
  },
  {
   "cell_type": "code",
   "execution_count": 3,
   "id": "7cdebcd4",
   "metadata": {
    "execution": {
     "iopub.execute_input": "2021-12-07T04:18:33.949941Z",
     "iopub.status.busy": "2021-12-07T04:18:33.949339Z",
     "iopub.status.idle": "2021-12-07T04:19:15.413109Z",
     "shell.execute_reply": "2021-12-07T04:19:15.413563Z",
     "shell.execute_reply.started": "2021-12-07T00:36:06.002304Z"
    },
    "papermill": {
     "duration": 41.503102,
     "end_time": "2021-12-07T04:19:15.413734",
     "exception": false,
     "start_time": "2021-12-07T04:18:33.910632",
     "status": "completed"
    },
    "tags": []
   },
   "outputs": [],
   "source": [
    "image_patches = glob(\"../input/breast-histopathology-images/*/*/*_idx5_*.png\",\n",
    "                     recursive = True)"
   ]
  },
  {
   "cell_type": "markdown",
   "id": "646f63f0",
   "metadata": {
    "papermill": {
     "duration": 0.033795,
     "end_time": "2021-12-07T04:19:15.483299",
     "exception": false,
     "start_time": "2021-12-07T04:19:15.449504",
     "status": "completed"
    },
    "tags": []
   },
   "source": [
    "# Data partitioning"
   ]
  },
  {
   "cell_type": "markdown",
   "id": "67df34f1",
   "metadata": {
    "papermill": {
     "duration": 0.032875,
     "end_time": "2021-12-07T04:19:15.548268",
     "exception": false,
     "start_time": "2021-12-07T04:19:15.515393",
     "status": "completed"
    },
    "tags": []
   },
   "source": [
    "Separate the class 0 images from the class 1 images."
   ]
  },
  {
   "cell_type": "code",
   "execution_count": 4,
   "id": "78077625",
   "metadata": {
    "execution": {
     "iopub.execute_input": "2021-12-07T04:19:15.617199Z",
     "iopub.status.busy": "2021-12-07T04:19:15.616425Z",
     "iopub.status.idle": "2021-12-07T04:19:15.618778Z",
     "shell.execute_reply": "2021-12-07T04:19:15.618362Z",
     "shell.execute_reply.started": "2021-12-07T00:37:22.107463Z"
    },
    "papermill": {
     "duration": 0.038135,
     "end_time": "2021-12-07T04:19:15.618910",
     "exception": false,
     "start_time": "2021-12-07T04:19:15.580775",
     "status": "completed"
    },
    "tags": []
   },
   "outputs": [],
   "source": [
    "pattern_zero = \"*class0.png\"\n",
    "pattern_one = \"*class1.png\""
   ]
  },
  {
   "cell_type": "code",
   "execution_count": 5,
   "id": "ad358926",
   "metadata": {
    "execution": {
     "iopub.execute_input": "2021-12-07T04:19:15.701361Z",
     "iopub.status.busy": "2021-12-07T04:19:15.696199Z",
     "iopub.status.idle": "2021-12-07T04:19:15.918041Z",
     "shell.execute_reply": "2021-12-07T04:19:15.917540Z",
     "shell.execute_reply.started": "2021-12-07T00:37:33.703128Z"
    },
    "papermill": {
     "duration": 0.266927,
     "end_time": "2021-12-07T04:19:15.918167",
     "exception": false,
     "start_time": "2021-12-07T04:19:15.651240",
     "status": "completed"
    },
    "tags": []
   },
   "outputs": [],
   "source": [
    "class_zero = fnmatch.filter(image_patches,\n",
    "                            pattern_zero)\n",
    "class_one = fnmatch.filter(image_patches,\n",
    "                           pattern_one)"
   ]
  },
  {
   "cell_type": "markdown",
   "id": "ad56d27f",
   "metadata": {
    "papermill": {
     "duration": 0.032202,
     "end_time": "2021-12-07T04:19:15.982350",
     "exception": false,
     "start_time": "2021-12-07T04:19:15.950148",
     "status": "completed"
    },
    "tags": []
   },
   "source": [
    "Create the labels."
   ]
  },
  {
   "cell_type": "code",
   "execution_count": 6,
   "id": "16838c7c",
   "metadata": {
    "execution": {
     "iopub.execute_input": "2021-12-07T04:19:16.096463Z",
     "iopub.status.busy": "2021-12-07T04:19:16.079763Z",
     "iopub.status.idle": "2021-12-07T04:33:49.729873Z",
     "shell.execute_reply": "2021-12-07T04:33:49.729351Z",
     "shell.execute_reply.started": "2021-12-07T00:37:38.866084Z"
    },
    "papermill": {
     "duration": 873.715086,
     "end_time": "2021-12-07T04:33:49.730025",
     "exception": false,
     "start_time": "2021-12-07T04:19:16.014939",
     "status": "completed"
    },
    "tags": []
   },
   "outputs": [],
   "source": [
    "y = []\n",
    "\n",
    "for image in image_patches:\n",
    "    if image in class_zero:\n",
    "        y.append(0)\n",
    "    if image in class_one:\n",
    "        y.append(1)"
   ]
  },
  {
   "cell_type": "markdown",
   "id": "143da542",
   "metadata": {
    "papermill": {
     "duration": 0.031475,
     "end_time": "2021-12-07T04:33:49.794618",
     "exception": false,
     "start_time": "2021-12-07T04:33:49.763143",
     "status": "completed"
    },
    "tags": []
   },
   "source": [
    "Create a raw data frame containing the image file paths and the corresponding class labels."
   ]
  },
  {
   "cell_type": "code",
   "execution_count": 7,
   "id": "d7fb23a9",
   "metadata": {
    "execution": {
     "iopub.execute_input": "2021-12-07T04:33:49.892141Z",
     "iopub.status.busy": "2021-12-07T04:33:49.891505Z",
     "iopub.status.idle": "2021-12-07T04:33:50.014363Z",
     "shell.execute_reply": "2021-12-07T04:33:50.014800Z",
     "shell.execute_reply.started": "2021-12-07T00:52:21.606157Z"
    },
    "papermill": {
     "duration": 0.188285,
     "end_time": "2021-12-07T04:33:50.014990",
     "exception": false,
     "start_time": "2021-12-07T04:33:49.826705",
     "status": "completed"
    },
    "tags": []
   },
   "outputs": [],
   "source": [
    "raw_df = pd.DataFrame({\"images\": image_patches,\n",
    "                       \"labels\": y})"
   ]
  },
  {
   "cell_type": "markdown",
   "id": "ed5fd2ca",
   "metadata": {
    "papermill": {
     "duration": 0.032449,
     "end_time": "2021-12-07T04:33:50.081772",
     "exception": false,
     "start_time": "2021-12-07T04:33:50.049323",
     "status": "completed"
    },
    "tags": []
   },
   "source": [
    "Partition the raw data frame into a training frame, a validation frame and a test frame."
   ]
  },
  {
   "cell_type": "code",
   "execution_count": 8,
   "id": "f347417c",
   "metadata": {
    "execution": {
     "iopub.execute_input": "2021-12-07T04:33:50.154946Z",
     "iopub.status.busy": "2021-12-07T04:33:50.154317Z",
     "iopub.status.idle": "2021-12-07T04:33:50.523014Z",
     "shell.execute_reply": "2021-12-07T04:33:50.522495Z",
     "shell.execute_reply.started": "2021-12-07T00:52:26.610478Z"
    },
    "papermill": {
     "duration": 0.409258,
     "end_time": "2021-12-07T04:33:50.523163",
     "exception": false,
     "start_time": "2021-12-07T04:33:50.113905",
     "status": "completed"
    },
    "tags": []
   },
   "outputs": [],
   "source": [
    "raw_train_and_valid, raw_test = train_test_split(raw_df,\n",
    "                                                 test_size = 0.1,\n",
    "                                                 stratify = raw_df[\"labels\"])\n",
    "raw_train, raw_valid = train_test_split(raw_train_and_valid,\n",
    "                                        test_size = 0.1,\n",
    "                                        stratify = raw_train_and_valid[\"labels\"])"
   ]
  },
  {
   "cell_type": "markdown",
   "id": "f1f53d21",
   "metadata": {
    "papermill": {
     "duration": 0.033992,
     "end_time": "2021-12-07T04:33:50.590879",
     "exception": false,
     "start_time": "2021-12-07T04:33:50.556887",
     "status": "completed"
    },
    "tags": []
   },
   "source": [
    "Create a function that will make an image dataset from the raw data frame containing the file paths."
   ]
  },
  {
   "cell_type": "code",
   "execution_count": 9,
   "id": "3e92323a",
   "metadata": {
    "execution": {
     "iopub.execute_input": "2021-12-07T04:33:50.678853Z",
     "iopub.status.busy": "2021-12-07T04:33:50.677955Z",
     "iopub.status.idle": "2021-12-07T04:33:50.679781Z",
     "shell.execute_reply": "2021-12-07T04:33:50.680360Z",
     "shell.execute_reply.started": "2021-12-07T00:52:31.820282Z"
    },
    "papermill": {
     "duration": 0.053357,
     "end_time": "2021-12-07T04:33:50.680503",
     "exception": false,
     "start_time": "2021-12-07T04:33:50.627146",
     "status": "completed"
    },
    "tags": []
   },
   "outputs": [],
   "source": [
    "class MakeImageDataset(torch.utils.data.Dataset):\n",
    "    def __init__(self,\n",
    "                 raw_df,\n",
    "                 transforms = None):\n",
    "        super().__init__()\n",
    "        self.file_path_data = raw_df.values\n",
    "        self.transforms = transforms\n",
    "        \n",
    "    def __len__(self):\n",
    "        return(len(self.file_path_data))\n",
    "    \n",
    "    def __getitem__(self,  \n",
    "                    index):\n",
    "        file_path, label = self.file_path_data[index]\n",
    "        image = cv2.imread(file_path)\n",
    "        image = cv2.resize(image,\n",
    "                           (50, 50))\n",
    "        \n",
    "        if self.transforms is not None:\n",
    "            image = self.transforms(image)\n",
    "            \n",
    "        return image, label"
   ]
  },
  {
   "cell_type": "markdown",
   "id": "07f21103",
   "metadata": {
    "papermill": {
     "duration": 0.035187,
     "end_time": "2021-12-07T04:33:50.749629",
     "exception": false,
     "start_time": "2021-12-07T04:33:50.714442",
     "status": "completed"
    },
    "tags": []
   },
   "source": [
    "Define transforms for the training, validation and test sets."
   ]
  },
  {
   "cell_type": "code",
   "execution_count": 10,
   "id": "026f32ed",
   "metadata": {
    "execution": {
     "iopub.execute_input": "2021-12-07T04:33:50.821404Z",
     "iopub.status.busy": "2021-12-07T04:33:50.819833Z",
     "iopub.status.idle": "2021-12-07T04:33:50.821997Z",
     "shell.execute_reply": "2021-12-07T04:33:50.822401Z",
     "shell.execute_reply.started": "2021-12-07T00:52:36.984294Z"
    },
    "papermill": {
     "duration": 0.039477,
     "end_time": "2021-12-07T04:33:50.822523",
     "exception": false,
     "start_time": "2021-12-07T04:33:50.783046",
     "status": "completed"
    },
    "tags": []
   },
   "outputs": [],
   "source": [
    "expected_means = [0.5, 0.5, 0.5]\n",
    "expected_stds = [0.5, 0.5, 0.5]"
   ]
  },
  {
   "cell_type": "code",
   "execution_count": 11,
   "id": "537c5873",
   "metadata": {
    "execution": {
     "iopub.execute_input": "2021-12-07T04:33:50.893777Z",
     "iopub.status.busy": "2021-12-07T04:33:50.893031Z",
     "iopub.status.idle": "2021-12-07T04:33:50.895464Z",
     "shell.execute_reply": "2021-12-07T04:33:50.895041Z",
     "shell.execute_reply.started": "2021-12-07T00:52:43.338497Z"
    },
    "papermill": {
     "duration": 0.041185,
     "end_time": "2021-12-07T04:33:50.895567",
     "exception": false,
     "start_time": "2021-12-07T04:33:50.854382",
     "status": "completed"
    },
    "tags": []
   },
   "outputs": [],
   "source": [
    "transforms_train = transforms.Compose([transforms.ToPILImage(),\n",
    "                                       transforms.Pad(padding = 64,\n",
    "                                                      padding_mode = \"reflect\"),\n",
    "                                       transforms.RandomHorizontalFlip(),\n",
    "                                       transforms.RandomVerticalFlip(),\n",
    "                                       transforms.RandomRotation(degrees = 20),\n",
    "                                       transforms.ToTensor(),\n",
    "                                       transforms.Normalize(mean = expected_means,\n",
    "                                                            std = expected_stds)])\n",
    "transforms_valid = transforms.Compose([transforms.ToPILImage(),\n",
    "                                       transforms.Pad(padding = 64,\n",
    "                                                      padding_mode = \"reflect\"),\n",
    "                                       transforms.ToTensor(),\n",
    "                                       transforms.Normalize(mean = expected_means,\n",
    "                                                            std = expected_stds)])\n",
    "transforms_test = transforms.Compose([transforms.ToPILImage(),\n",
    "                                      transforms.Pad(padding = 64,\n",
    "                                                     padding_mode = \"reflect\"),\n",
    "                                      transforms.ToTensor(),\n",
    "                                      transforms.Normalize(mean = expected_means,\n",
    "                                                           std = expected_stds)])"
   ]
  },
  {
   "cell_type": "markdown",
   "id": "487d8e3d",
   "metadata": {
    "papermill": {
     "duration": 0.032211,
     "end_time": "2021-12-07T04:33:50.959867",
     "exception": false,
     "start_time": "2021-12-07T04:33:50.927656",
     "status": "completed"
    },
    "tags": []
   },
   "source": [
    "Create image datasets from the raw data frames."
   ]
  },
  {
   "cell_type": "code",
   "execution_count": 12,
   "id": "e50829f6",
   "metadata": {
    "execution": {
     "iopub.execute_input": "2021-12-07T04:33:51.031206Z",
     "iopub.status.busy": "2021-12-07T04:33:51.030656Z",
     "iopub.status.idle": "2021-12-07T04:33:51.058672Z",
     "shell.execute_reply": "2021-12-07T04:33:51.057780Z",
     "shell.execute_reply.started": "2021-12-07T00:52:49.337320Z"
    },
    "papermill": {
     "duration": 0.065487,
     "end_time": "2021-12-07T04:33:51.058821",
     "exception": false,
     "start_time": "2021-12-07T04:33:50.993334",
     "status": "completed"
    },
    "tags": []
   },
   "outputs": [],
   "source": [
    "dataset_train = MakeImageDataset(raw_df = raw_train,\n",
    "                                 transforms = transforms_train)\n",
    "dataset_valid = MakeImageDataset(raw_df = raw_valid,\n",
    "                                 transforms = transforms_valid)\n",
    "dataset_test = MakeImageDataset(raw_df = raw_test,\n",
    "                                transforms = transforms_test)"
   ]
  },
  {
   "cell_type": "markdown",
   "id": "ae42cbee",
   "metadata": {
    "papermill": {
     "duration": 0.032197,
     "end_time": "2021-12-07T04:33:51.123265",
     "exception": false,
     "start_time": "2021-12-07T04:33:51.091068",
     "status": "completed"
    },
    "tags": []
   },
   "source": [
    "# Form data iterators"
   ]
  },
  {
   "cell_type": "markdown",
   "id": "d514c3d3",
   "metadata": {
    "papermill": {
     "duration": 0.031951,
     "end_time": "2021-12-07T04:33:51.188644",
     "exception": false,
     "start_time": "2021-12-07T04:33:51.156693",
     "status": "completed"
    },
    "tags": []
   },
   "source": [
    "Form iterators using a desired batch size."
   ]
  },
  {
   "cell_type": "code",
   "execution_count": 13,
   "id": "e3d7f92f",
   "metadata": {
    "execution": {
     "iopub.execute_input": "2021-12-07T04:33:51.257733Z",
     "iopub.status.busy": "2021-12-07T04:33:51.257023Z",
     "iopub.status.idle": "2021-12-07T04:33:51.258956Z",
     "shell.execute_reply": "2021-12-07T04:33:51.259325Z",
     "shell.execute_reply.started": "2021-12-07T00:52:54.498345Z"
    },
    "papermill": {
     "duration": 0.037829,
     "end_time": "2021-12-07T04:33:51.259450",
     "exception": false,
     "start_time": "2021-12-07T04:33:51.221621",
     "status": "completed"
    },
    "tags": []
   },
   "outputs": [],
   "source": [
    "BATCH_SIZE = 128"
   ]
  },
  {
   "cell_type": "code",
   "execution_count": 14,
   "id": "29f44e27",
   "metadata": {
    "execution": {
     "iopub.execute_input": "2021-12-07T04:33:51.326989Z",
     "iopub.status.busy": "2021-12-07T04:33:51.326211Z",
     "iopub.status.idle": "2021-12-07T04:33:51.331251Z",
     "shell.execute_reply": "2021-12-07T04:33:51.330846Z",
     "shell.execute_reply.started": "2021-12-07T00:52:59.292445Z"
    },
    "papermill": {
     "duration": 0.039297,
     "end_time": "2021-12-07T04:33:51.331354",
     "exception": false,
     "start_time": "2021-12-07T04:33:51.292057",
     "status": "completed"
    },
    "tags": []
   },
   "outputs": [],
   "source": [
    "iterator_train = DataLoader(dataset = dataset_train,\n",
    "                            batch_size = BATCH_SIZE,\n",
    "                            shuffle = True)\n",
    "iterator_valid = DataLoader(dataset = dataset_valid,\n",
    "                            batch_size = BATCH_SIZE)\n",
    "iterator_test = DataLoader(dataset = dataset_test,\n",
    "                           batch_size = BATCH_SIZE)"
   ]
  },
  {
   "cell_type": "markdown",
   "id": "d0366383",
   "metadata": {
    "papermill": {
     "duration": 0.031803,
     "end_time": "2021-12-07T04:33:51.395223",
     "exception": false,
     "start_time": "2021-12-07T04:33:51.363420",
     "status": "completed"
    },
    "tags": []
   },
   "source": [
    "# Define the model"
   ]
  },
  {
   "cell_type": "markdown",
   "id": "ef9b3bc9",
   "metadata": {
    "papermill": {
     "duration": 0.032209,
     "end_time": "2021-12-07T04:33:51.459687",
     "exception": false,
     "start_time": "2021-12-07T04:33:51.427478",
     "status": "completed"
    },
    "tags": []
   },
   "source": [
    "Set up the GPU."
   ]
  },
  {
   "cell_type": "code",
   "execution_count": 15,
   "id": "7d6b3a84",
   "metadata": {
    "execution": {
     "iopub.execute_input": "2021-12-07T04:33:51.576603Z",
     "iopub.status.busy": "2021-12-07T04:33:51.576000Z",
     "iopub.status.idle": "2021-12-07T04:33:51.578830Z",
     "shell.execute_reply": "2021-12-07T04:33:51.578409Z",
     "shell.execute_reply.started": "2021-12-07T00:53:04.468929Z"
    },
    "papermill": {
     "duration": 0.086094,
     "end_time": "2021-12-07T04:33:51.578949",
     "exception": false,
     "start_time": "2021-12-07T04:33:51.492855",
     "status": "completed"
    },
    "tags": []
   },
   "outputs": [],
   "source": [
    "if torch.cuda.is_available():\n",
    "    device = torch.device(\"cuda\")\n",
    "else:\n",
    "    device = torch.device(\"cpu\")"
   ]
  },
  {
   "cell_type": "markdown",
   "id": "a55e9e94",
   "metadata": {
    "papermill": {
     "duration": 0.032971,
     "end_time": "2021-12-07T04:33:51.644706",
     "exception": false,
     "start_time": "2021-12-07T04:33:51.611735",
     "status": "completed"
    },
    "tags": []
   },
   "source": [
    "Define the model."
   ]
  },
  {
   "cell_type": "code",
   "execution_count": 16,
   "id": "8f461353",
   "metadata": {
    "execution": {
     "iopub.execute_input": "2021-12-07T04:33:51.723284Z",
     "iopub.status.busy": "2021-12-07T04:33:51.722544Z",
     "iopub.status.idle": "2021-12-07T04:33:51.725043Z",
     "shell.execute_reply": "2021-12-07T04:33:51.724611Z",
     "shell.execute_reply.started": "2021-12-07T00:53:13.492130Z"
    },
    "papermill": {
     "duration": 0.047367,
     "end_time": "2021-12-07T04:33:51.725151",
     "exception": false,
     "start_time": "2021-12-07T04:33:51.677784",
     "status": "completed"
    },
    "tags": []
   },
   "outputs": [],
   "source": [
    "class ImageClassifier(nn.Module):\n",
    "    def __init__(self):\n",
    "        super(ImageClassifier, self).__init__()\n",
    "        self.conv1 = nn.Conv2d(in_channels = 3,\n",
    "                               out_channels = 32,\n",
    "                               kernel_size = 3,\n",
    "                               padding = 2)\n",
    "        self.conv2 = nn.Conv2d(in_channels = 32,\n",
    "                               out_channels = 64,\n",
    "                               kernel_size = 3,\n",
    "                               padding = 2)\n",
    "        self.conv3 = nn.Conv2d(in_channels = 64,\n",
    "                               out_channels = 128,\n",
    "                               kernel_size = 3,\n",
    "                               padding = 2)\n",
    "        self.conv4 = nn.Conv2d(in_channels = 128,\n",
    "                               out_channels = 256,\n",
    "                               kernel_size = 3,\n",
    "                               padding = 2)\n",
    "        self.conv5 = nn.Conv2d(in_channels = 256,\n",
    "                               out_channels = 512,\n",
    "                               kernel_size = 3,\n",
    "                               padding = 2)\n",
    "        self.bn1 = nn.BatchNorm2d(num_features = 32)\n",
    "        self.bn2 = nn.BatchNorm2d(num_features = 64)\n",
    "        self.bn3 = nn.BatchNorm2d(num_features = 128)\n",
    "        self.bn4 = nn.BatchNorm2d(num_features = 256)\n",
    "        self.bn5 = nn.BatchNorm2d(num_features = 512)\n",
    "        self.max_pool = nn.MaxPool2d(kernel_size = 2,\n",
    "                                     stride = 2)\n",
    "        self.avg_pool = nn.AdaptiveAvgPool2d(output_size = (1, 1))\n",
    "        self.fc = nn.Linear(in_features = 512,\n",
    "                            out_features = 2)\n",
    "        \n",
    "    def forward(self, \n",
    "                x):\n",
    "        x = self.max_pool(F.leaky_relu(self.bn1(self.conv1(x))))\n",
    "        x = self.max_pool(F.leaky_relu(self.bn2(self.conv2(x))))\n",
    "        x = self.max_pool(F.leaky_relu(self.bn3(self.conv3(x))))\n",
    "        x = self.max_pool(F.leaky_relu(self.bn4(self.conv4(x))))\n",
    "        x = self.max_pool(F.leaky_relu(self.bn5(self.conv5(x))))\n",
    "        x = self.avg_pool(x)\n",
    "        x = x.view(-1, 512)\n",
    "        x = self.fc(x)\n",
    "        return x"
   ]
  },
  {
   "cell_type": "markdown",
   "id": "85d34d4c",
   "metadata": {
    "papermill": {
     "duration": 0.03272,
     "end_time": "2021-12-07T04:33:51.790607",
     "exception": false,
     "start_time": "2021-12-07T04:33:51.757887",
     "status": "completed"
    },
    "tags": []
   },
   "source": [
    "Copy the model to the GPU."
   ]
  },
  {
   "cell_type": "code",
   "execution_count": 17,
   "id": "f5b73655",
   "metadata": {
    "execution": {
     "iopub.execute_input": "2021-12-07T04:33:51.863443Z",
     "iopub.status.busy": "2021-12-07T04:33:51.862920Z",
     "iopub.status.idle": "2021-12-07T04:33:54.711001Z",
     "shell.execute_reply": "2021-12-07T04:33:54.710505Z",
     "shell.execute_reply.started": "2021-12-07T00:53:20.592247Z"
    },
    "papermill": {
     "duration": 2.887367,
     "end_time": "2021-12-07T04:33:54.711139",
     "exception": false,
     "start_time": "2021-12-07T04:33:51.823772",
     "status": "completed"
    },
    "tags": []
   },
   "outputs": [],
   "source": [
    "model = ImageClassifier().to(device)"
   ]
  },
  {
   "cell_type": "markdown",
   "id": "3ae032af",
   "metadata": {
    "papermill": {
     "duration": 0.032795,
     "end_time": "2021-12-07T04:33:54.776714",
     "exception": false,
     "start_time": "2021-12-07T04:33:54.743919",
     "status": "completed"
    },
    "tags": []
   },
   "source": [
    "View the architecture of the model."
   ]
  },
  {
   "cell_type": "code",
   "execution_count": 18,
   "id": "fb1ee7a8",
   "metadata": {
    "execution": {
     "iopub.execute_input": "2021-12-07T04:33:54.848046Z",
     "iopub.status.busy": "2021-12-07T04:33:54.847309Z",
     "iopub.status.idle": "2021-12-07T04:34:00.400825Z",
     "shell.execute_reply": "2021-12-07T04:34:00.401290Z",
     "shell.execute_reply.started": "2021-12-07T00:53:28.446945Z"
    },
    "papermill": {
     "duration": 5.591259,
     "end_time": "2021-12-07T04:34:00.401473",
     "exception": false,
     "start_time": "2021-12-07T04:33:54.810214",
     "status": "completed"
    },
    "tags": []
   },
   "outputs": [
    {
     "data": {
      "text/plain": [
       "==========================================================================================\n",
       "Layer (type:depth-idx)                   Output Shape              Param #\n",
       "==========================================================================================\n",
       "ImageClassifier                          --                        --\n",
       "├─Conv2d: 1-1                            [128, 32, 52, 52]         896\n",
       "├─BatchNorm2d: 1-2                       [128, 32, 52, 52]         64\n",
       "├─MaxPool2d: 1-3                         [128, 32, 26, 26]         --\n",
       "├─Conv2d: 1-4                            [128, 64, 28, 28]         18,496\n",
       "├─BatchNorm2d: 1-5                       [128, 64, 28, 28]         128\n",
       "├─MaxPool2d: 1-6                         [128, 64, 14, 14]         --\n",
       "├─Conv2d: 1-7                            [128, 128, 16, 16]        73,856\n",
       "├─BatchNorm2d: 1-8                       [128, 128, 16, 16]        256\n",
       "├─MaxPool2d: 1-9                         [128, 128, 8, 8]          --\n",
       "├─Conv2d: 1-10                           [128, 256, 10, 10]        295,168\n",
       "├─BatchNorm2d: 1-11                      [128, 256, 10, 10]        512\n",
       "├─MaxPool2d: 1-12                        [128, 256, 5, 5]          --\n",
       "├─Conv2d: 1-13                           [128, 512, 7, 7]          1,180,160\n",
       "├─BatchNorm2d: 1-14                      [128, 512, 7, 7]          1,024\n",
       "├─MaxPool2d: 1-15                        [128, 512, 3, 3]          --\n",
       "├─AdaptiveAvgPool2d: 1-16                [128, 512, 1, 1]          --\n",
       "├─Linear: 1-17                           [128, 2]                  1,026\n",
       "==========================================================================================\n",
       "Total params: 1,571,586\n",
       "Trainable params: 1,571,586\n",
       "Non-trainable params: 0\n",
       "Total mult-adds (G): 15.77\n",
       "==========================================================================================\n",
       "Input size (MB): 3.84\n",
       "Forward/backward pass size (MB): 450.89\n",
       "Params size (MB): 6.29\n",
       "Estimated Total Size (MB): 461.02\n",
       "=========================================================================================="
      ]
     },
     "execution_count": 18,
     "metadata": {},
     "output_type": "execute_result"
    }
   ],
   "source": [
    "torchinfo.summary(model,\n",
    "                  input_size = [BATCH_SIZE, 3, 50, 50],\n",
    "                  device = \"cuda\")"
   ]
  },
  {
   "cell_type": "markdown",
   "id": "edf18b3d",
   "metadata": {
    "papermill": {
     "duration": 0.032816,
     "end_time": "2021-12-07T04:34:00.468395",
     "exception": false,
     "start_time": "2021-12-07T04:34:00.435579",
     "status": "completed"
    },
    "tags": []
   },
   "source": [
    "# Loss function and optimizer"
   ]
  },
  {
   "cell_type": "markdown",
   "id": "d0fe7453",
   "metadata": {
    "papermill": {
     "duration": 0.032152,
     "end_time": "2021-12-07T04:34:00.533073",
     "exception": false,
     "start_time": "2021-12-07T04:34:00.500921",
     "status": "completed"
    },
    "tags": []
   },
   "source": [
    "Select a loss function and an optimizer for the model."
   ]
  },
  {
   "cell_type": "code",
   "execution_count": 19,
   "id": "d2051deb",
   "metadata": {
    "execution": {
     "iopub.execute_input": "2021-12-07T04:34:00.603308Z",
     "iopub.status.busy": "2021-12-07T04:34:00.602524Z",
     "iopub.status.idle": "2021-12-07T04:34:00.604601Z",
     "shell.execute_reply": "2021-12-07T04:34:00.605024Z",
     "shell.execute_reply.started": "2021-12-07T00:54:33.865262Z"
    },
    "papermill": {
     "duration": 0.03993,
     "end_time": "2021-12-07T04:34:00.605159",
     "exception": false,
     "start_time": "2021-12-07T04:34:00.565229",
     "status": "completed"
    },
    "tags": []
   },
   "outputs": [],
   "source": [
    "LEARNING_RATE = 0.002"
   ]
  },
  {
   "cell_type": "code",
   "execution_count": 20,
   "id": "d0dc0996",
   "metadata": {
    "execution": {
     "iopub.execute_input": "2021-12-07T04:34:00.677260Z",
     "iopub.status.busy": "2021-12-07T04:34:00.676533Z",
     "iopub.status.idle": "2021-12-07T04:34:00.679213Z",
     "shell.execute_reply": "2021-12-07T04:34:00.678698Z",
     "shell.execute_reply.started": "2021-12-07T00:54:37.859185Z"
    },
    "papermill": {
     "duration": 0.039918,
     "end_time": "2021-12-07T04:34:00.679333",
     "exception": false,
     "start_time": "2021-12-07T04:34:00.639415",
     "status": "completed"
    },
    "tags": []
   },
   "outputs": [],
   "source": [
    "loss_fn = nn.CrossEntropyLoss()\n",
    "optimizer = torch.optim.Adamax(params = model.parameters(),\n",
    "                               lr = LEARNING_RATE)"
   ]
  },
  {
   "cell_type": "markdown",
   "id": "ff316f87",
   "metadata": {
    "papermill": {
     "duration": 0.033619,
     "end_time": "2021-12-07T04:34:00.747506",
     "exception": false,
     "start_time": "2021-12-07T04:34:00.713887",
     "status": "completed"
    },
    "tags": []
   },
   "source": [
    "# Define the training function"
   ]
  },
  {
   "cell_type": "code",
   "execution_count": 21,
   "id": "1a5ad8c0",
   "metadata": {
    "execution": {
     "iopub.execute_input": "2021-12-07T04:34:00.829402Z",
     "iopub.status.busy": "2021-12-07T04:34:00.828582Z",
     "iopub.status.idle": "2021-12-07T04:34:00.831019Z",
     "shell.execute_reply": "2021-12-07T04:34:00.831448Z",
     "shell.execute_reply.started": "2021-12-07T00:54:42.556677Z"
    },
    "papermill": {
     "duration": 0.050567,
     "end_time": "2021-12-07T04:34:00.831642",
     "exception": false,
     "start_time": "2021-12-07T04:34:00.781075",
     "status": "completed"
    },
    "tags": []
   },
   "outputs": [],
   "source": [
    "def train(iterator_train,\n",
    "          iterator_valid,\n",
    "          model,\n",
    "          loss_fn,\n",
    "          optimizer,\n",
    "          device,\n",
    "          n_epochs = 5):\n",
    "    \n",
    "    # initialize the history list which will contain all losses and metrics\n",
    "    \n",
    "    history_list = []\n",
    "    \n",
    "    for i in range(n_epochs):\n",
    "        \n",
    "        # start setting up the training procedure\n",
    "        \n",
    "        print(f\"Epoch {i+1}\")\n",
    "        print(\"-------------------------------\")\n",
    "    \n",
    "        train_size = len(iterator_train.dataset)\n",
    "        n_train_batches = len(iterator_train)\n",
    "        train_loss = 0\n",
    "        average_train_loss = 0\n",
    "        train_n_correct = 0\n",
    "        train_accuracy = 0\n",
    "    \n",
    "        # set the model to training mode\n",
    "        \n",
    "        model.train()\n",
    "    \n",
    "        for train_batch, (X, y) in enumerate(iterator_train):\n",
    "        \n",
    "            # copy the tensors to the GPU\n",
    "        \n",
    "            X = X.to(device)\n",
    "            y = y.to(device)\n",
    "            \n",
    "            # reset the gradients of the model parameters to zero\n",
    "            \n",
    "            optimizer.zero_grad()\n",
    "            \n",
    "            # obtain the model prediction and loss\n",
    "            \n",
    "            pred = model(X)\n",
    "            loss = loss_fn(pred, y)\n",
    "            \n",
    "            # backpropagate the loss and deposit each gradient in place\n",
    "            \n",
    "            loss.backward()\n",
    "            \n",
    "            # adjust the parameters using the gradients collected in the backward pass\n",
    "            \n",
    "            optimizer.step()\n",
    "            \n",
    "            # increment the validation loss and the number of correctly labeled instances\n",
    "            # build up these aggregate values instance by instance\n",
    "                \n",
    "            train_loss += loss.item()\n",
    "            train_n_correct += (pred.argmax(1) == y).type(torch.float).sum().item()\n",
    "            \n",
    "            # display the training loss after every hundredth batch is trained\n",
    "        \n",
    "            if train_batch % 100 == 0:\n",
    "                loss = loss.item()\n",
    "                current_instance = train_batch * len(X)\n",
    "                print(f\"Loss: {loss:.6f} [{current_instance:5f} / {train_size:5f}]\")\n",
    "                \n",
    "        # obtain average training loss and accuracy for the entire epoch\n",
    "        \n",
    "        average_train_loss = train_loss / n_train_batches\n",
    "        train_accuracy = train_n_correct / train_size\n",
    "                \n",
    "        # after training is finished, start validation\n",
    "        \n",
    "        valid_size = len(iterator_valid.dataset)\n",
    "        n_valid_batches = len(iterator_valid)\n",
    "        valid_loss = 0\n",
    "        average_valid_loss = 0\n",
    "        valid_n_correct = 0\n",
    "        valid_accuracy = 0\n",
    "        \n",
    "        with torch.no_grad():\n",
    "            \n",
    "            # set the model to evaluation mode\n",
    "            \n",
    "            model.eval()\n",
    "            \n",
    "            for X, y in iterator_valid:\n",
    "                \n",
    "                # copy the tensors to the GPU\n",
    "                \n",
    "                X = X.to(device)\n",
    "                y = y.to(device)\n",
    "                \n",
    "                # obtain the model prediction and loss\n",
    "                \n",
    "                pred = model(X)\n",
    "                loss = loss_fn(pred, y)\n",
    "                \n",
    "                # increment the validation loss and the number of correctly labeled instances\n",
    "                # build up aggregate values instance by instance\n",
    "                \n",
    "                valid_loss += loss.item()\n",
    "                valid_n_correct += (pred.argmax(1) == y).type(torch.float).sum().item()\n",
    "                \n",
    "        # obtain average validation loss and accuracy for the entire epoch\n",
    "        \n",
    "        average_valid_loss = valid_loss / n_valid_batches\n",
    "        valid_accuracy = valid_n_correct / valid_size\n",
    "        \n",
    "        print(\"Validation error:\")\n",
    "        print(f\"Accuracy: {valid_accuracy:.6f}, Average loss: {average_valid_loss:.6f}\")\n",
    "        print()\n",
    "        \n",
    "        history_list.append([average_train_loss, average_valid_loss, train_accuracy, valid_accuracy])\n",
    "    \n",
    "    # display a message indicating training has finished\n",
    "    \n",
    "    print()\n",
    "    print(\"Done!\")\n",
    "    \n",
    "    # create a data frame containing the entire training and validation history\n",
    "    \n",
    "    history = pd.DataFrame(data = history_list,\n",
    "                           columns = [\"average_train_loss\", \"average_valid_loss\", \n",
    "                                      \"train_accuracy\", \"valid_accuracy\"])\n",
    "    \n",
    "    return model, history"
   ]
  },
  {
   "cell_type": "markdown",
   "id": "2f7eaa16",
   "metadata": {
    "papermill": {
     "duration": 0.032608,
     "end_time": "2021-12-07T04:34:00.897115",
     "exception": false,
     "start_time": "2021-12-07T04:34:00.864507",
     "status": "completed"
    },
    "tags": []
   },
   "source": [
    "# Train the model"
   ]
  },
  {
   "cell_type": "markdown",
   "id": "36dec417",
   "metadata": {
    "papermill": {
     "duration": 0.032458,
     "end_time": "2021-12-07T04:34:00.963097",
     "exception": false,
     "start_time": "2021-12-07T04:34:00.930639",
     "status": "completed"
    },
    "tags": []
   },
   "source": [
    "Pick a suitable number of epochs."
   ]
  },
  {
   "cell_type": "code",
   "execution_count": 22,
   "id": "66c4bd67",
   "metadata": {
    "execution": {
     "iopub.execute_input": "2021-12-07T04:34:01.034568Z",
     "iopub.status.busy": "2021-12-07T04:34:01.033665Z",
     "iopub.status.idle": "2021-12-07T04:34:01.035546Z",
     "shell.execute_reply": "2021-12-07T04:34:01.036020Z",
     "shell.execute_reply.started": "2021-12-07T00:54:50.224563Z"
    },
    "papermill": {
     "duration": 0.04063,
     "end_time": "2021-12-07T04:34:01.036149",
     "exception": false,
     "start_time": "2021-12-07T04:34:00.995519",
     "status": "completed"
    },
    "tags": []
   },
   "outputs": [],
   "source": [
    "N_EPOCHS = 10"
   ]
  },
  {
   "cell_type": "markdown",
   "id": "1b1ba0f0",
   "metadata": {
    "papermill": {
     "duration": 0.033906,
     "end_time": "2021-12-07T04:34:01.102860",
     "exception": false,
     "start_time": "2021-12-07T04:34:01.068954",
     "status": "completed"
    },
    "tags": []
   },
   "source": [
    "Train the model."
   ]
  },
  {
   "cell_type": "code",
   "execution_count": 23,
   "id": "2a789f23",
   "metadata": {
    "execution": {
     "iopub.execute_input": "2021-12-07T04:34:01.174370Z",
     "iopub.status.busy": "2021-12-07T04:34:01.172770Z",
     "iopub.status.idle": "2021-12-07T07:54:13.380502Z",
     "shell.execute_reply": "2021-12-07T07:54:13.381033Z",
     "shell.execute_reply.started": "2021-12-07T00:54:54.479216Z"
    },
    "papermill": {
     "duration": 12012.245148,
     "end_time": "2021-12-07T07:54:13.381198",
     "exception": false,
     "start_time": "2021-12-07T04:34:01.136050",
     "status": "completed"
    },
    "tags": []
   },
   "outputs": [
    {
     "name": "stdout",
     "output_type": "stream",
     "text": [
      "Epoch 1\n",
      "-------------------------------\n",
      "Loss: 0.649220 [0.000000 / 224793.000000]\n",
      "Loss: 0.451788 [12800.000000 / 224793.000000]\n",
      "Loss: 0.380800 [25600.000000 / 224793.000000]\n",
      "Loss: 0.264592 [38400.000000 / 224793.000000]\n",
      "Loss: 0.415035 [51200.000000 / 224793.000000]\n",
      "Loss: 0.301512 [64000.000000 / 224793.000000]\n",
      "Loss: 0.289626 [76800.000000 / 224793.000000]\n",
      "Loss: 0.292776 [89600.000000 / 224793.000000]\n",
      "Loss: 0.304288 [102400.000000 / 224793.000000]\n",
      "Loss: 0.359532 [115200.000000 / 224793.000000]\n",
      "Loss: 0.337629 [128000.000000 / 224793.000000]\n",
      "Loss: 0.260207 [140800.000000 / 224793.000000]\n",
      "Loss: 0.320425 [153600.000000 / 224793.000000]\n",
      "Loss: 0.230435 [166400.000000 / 224793.000000]\n",
      "Loss: 0.324427 [179200.000000 / 224793.000000]\n",
      "Loss: 0.277250 [192000.000000 / 224793.000000]\n",
      "Loss: 0.354524 [204800.000000 / 224793.000000]\n",
      "Loss: 0.291835 [217600.000000 / 224793.000000]\n",
      "Validation error:\n",
      "Accuracy: 0.868124, Average loss: 0.327383\n",
      "\n",
      "Epoch 2\n",
      "-------------------------------\n",
      "Loss: 0.475433 [0.000000 / 224793.000000]\n",
      "Loss: 0.359587 [12800.000000 / 224793.000000]\n",
      "Loss: 0.233810 [25600.000000 / 224793.000000]\n",
      "Loss: 0.284322 [38400.000000 / 224793.000000]\n",
      "Loss: 0.246090 [51200.000000 / 224793.000000]\n",
      "Loss: 0.280189 [64000.000000 / 224793.000000]\n",
      "Loss: 0.377033 [76800.000000 / 224793.000000]\n",
      "Loss: 0.421749 [89600.000000 / 224793.000000]\n",
      "Loss: 0.202169 [102400.000000 / 224793.000000]\n",
      "Loss: 0.222117 [115200.000000 / 224793.000000]\n",
      "Loss: 0.231188 [128000.000000 / 224793.000000]\n",
      "Loss: 0.247099 [140800.000000 / 224793.000000]\n",
      "Loss: 0.280751 [153600.000000 / 224793.000000]\n",
      "Loss: 0.257097 [166400.000000 / 224793.000000]\n",
      "Loss: 0.269490 [179200.000000 / 224793.000000]\n",
      "Loss: 0.249119 [192000.000000 / 224793.000000]\n",
      "Loss: 0.379917 [204800.000000 / 224793.000000]\n",
      "Loss: 0.297367 [217600.000000 / 224793.000000]\n",
      "Validation error:\n",
      "Accuracy: 0.875611, Average loss: 0.308420\n",
      "\n",
      "Epoch 3\n",
      "-------------------------------\n",
      "Loss: 0.225525 [0.000000 / 224793.000000]\n",
      "Loss: 0.289746 [12800.000000 / 224793.000000]\n",
      "Loss: 0.267814 [25600.000000 / 224793.000000]\n",
      "Loss: 0.307025 [38400.000000 / 224793.000000]\n",
      "Loss: 0.289343 [51200.000000 / 224793.000000]\n",
      "Loss: 0.217550 [64000.000000 / 224793.000000]\n",
      "Loss: 0.233379 [76800.000000 / 224793.000000]\n",
      "Loss: 0.251652 [89600.000000 / 224793.000000]\n",
      "Loss: 0.325018 [102400.000000 / 224793.000000]\n",
      "Loss: 0.240360 [115200.000000 / 224793.000000]\n",
      "Loss: 0.249228 [128000.000000 / 224793.000000]\n",
      "Loss: 0.284495 [140800.000000 / 224793.000000]\n",
      "Loss: 0.267916 [153600.000000 / 224793.000000]\n",
      "Loss: 0.256023 [166400.000000 / 224793.000000]\n",
      "Loss: 0.258368 [179200.000000 / 224793.000000]\n",
      "Loss: 0.284337 [192000.000000 / 224793.000000]\n",
      "Loss: 0.262063 [204800.000000 / 224793.000000]\n",
      "Loss: 0.303101 [217600.000000 / 224793.000000]\n",
      "Validation error:\n",
      "Accuracy: 0.860117, Average loss: 0.328586\n",
      "\n",
      "Epoch 4\n",
      "-------------------------------\n",
      "Loss: 0.339073 [0.000000 / 224793.000000]\n",
      "Loss: 0.217244 [12800.000000 / 224793.000000]\n",
      "Loss: 0.338934 [25600.000000 / 224793.000000]\n",
      "Loss: 0.288402 [38400.000000 / 224793.000000]\n",
      "Loss: 0.283891 [51200.000000 / 224793.000000]\n",
      "Loss: 0.187261 [64000.000000 / 224793.000000]\n",
      "Loss: 0.316588 [76800.000000 / 224793.000000]\n",
      "Loss: 0.295610 [89600.000000 / 224793.000000]\n",
      "Loss: 0.271119 [102400.000000 / 224793.000000]\n",
      "Loss: 0.203069 [115200.000000 / 224793.000000]\n",
      "Loss: 0.233938 [128000.000000 / 224793.000000]\n",
      "Loss: 0.252737 [140800.000000 / 224793.000000]\n",
      "Loss: 0.244230 [153600.000000 / 224793.000000]\n",
      "Loss: 0.300575 [166400.000000 / 224793.000000]\n",
      "Loss: 0.287345 [179200.000000 / 224793.000000]\n",
      "Loss: 0.291744 [192000.000000 / 224793.000000]\n",
      "Loss: 0.362314 [204800.000000 / 224793.000000]\n",
      "Loss: 0.206694 [217600.000000 / 224793.000000]\n",
      "Validation error:\n",
      "Accuracy: 0.879054, Average loss: 0.310002\n",
      "\n",
      "Epoch 5\n",
      "-------------------------------\n",
      "Loss: 0.293891 [0.000000 / 224793.000000]\n",
      "Loss: 0.395431 [12800.000000 / 224793.000000]\n",
      "Loss: 0.246952 [25600.000000 / 224793.000000]\n",
      "Loss: 0.243331 [38400.000000 / 224793.000000]\n",
      "Loss: 0.258270 [51200.000000 / 224793.000000]\n",
      "Loss: 0.230400 [64000.000000 / 224793.000000]\n",
      "Loss: 0.228440 [76800.000000 / 224793.000000]\n",
      "Loss: 0.207726 [89600.000000 / 224793.000000]\n",
      "Loss: 0.232960 [102400.000000 / 224793.000000]\n",
      "Loss: 0.174962 [115200.000000 / 224793.000000]\n",
      "Loss: 0.277059 [128000.000000 / 224793.000000]\n",
      "Loss: 0.241492 [140800.000000 / 224793.000000]\n",
      "Loss: 0.317570 [153600.000000 / 224793.000000]\n",
      "Loss: 0.283582 [166400.000000 / 224793.000000]\n",
      "Loss: 0.216259 [179200.000000 / 224793.000000]\n",
      "Loss: 0.332787 [192000.000000 / 224793.000000]\n",
      "Loss: 0.337109 [204800.000000 / 224793.000000]\n",
      "Loss: 0.251416 [217600.000000 / 224793.000000]\n",
      "Validation error:\n",
      "Accuracy: 0.895148, Average loss: 0.259621\n",
      "\n",
      "Epoch 6\n",
      "-------------------------------\n",
      "Loss: 0.198435 [0.000000 / 224793.000000]\n",
      "Loss: 0.216582 [12800.000000 / 224793.000000]\n",
      "Loss: 0.283992 [25600.000000 / 224793.000000]\n",
      "Loss: 0.178542 [38400.000000 / 224793.000000]\n",
      "Loss: 0.221380 [51200.000000 / 224793.000000]\n",
      "Loss: 0.210915 [64000.000000 / 224793.000000]\n",
      "Loss: 0.337638 [76800.000000 / 224793.000000]\n",
      "Loss: 0.197748 [89600.000000 / 224793.000000]\n",
      "Loss: 0.295355 [102400.000000 / 224793.000000]\n",
      "Loss: 0.228433 [115200.000000 / 224793.000000]\n",
      "Loss: 0.260012 [128000.000000 / 224793.000000]\n",
      "Loss: 0.203468 [140800.000000 / 224793.000000]\n",
      "Loss: 0.312755 [153600.000000 / 224793.000000]\n",
      "Loss: 0.337206 [166400.000000 / 224793.000000]\n",
      "Loss: 0.234519 [179200.000000 / 224793.000000]\n",
      "Loss: 0.293127 [192000.000000 / 224793.000000]\n",
      "Loss: 0.163924 [204800.000000 / 224793.000000]\n",
      "Loss: 0.247321 [217600.000000 / 224793.000000]\n",
      "Validation error:\n",
      "Accuracy: 0.891785, Average loss: 0.271492\n",
      "\n",
      "Epoch 7\n",
      "-------------------------------\n",
      "Loss: 0.180808 [0.000000 / 224793.000000]\n",
      "Loss: 0.224238 [12800.000000 / 224793.000000]\n",
      "Loss: 0.274084 [25600.000000 / 224793.000000]\n",
      "Loss: 0.248014 [38400.000000 / 224793.000000]\n",
      "Loss: 0.253687 [51200.000000 / 224793.000000]\n",
      "Loss: 0.290306 [64000.000000 / 224793.000000]\n",
      "Loss: 0.274246 [76800.000000 / 224793.000000]\n",
      "Loss: 0.231680 [89600.000000 / 224793.000000]\n",
      "Loss: 0.224279 [102400.000000 / 224793.000000]\n",
      "Loss: 0.207207 [115200.000000 / 224793.000000]\n",
      "Loss: 0.204521 [128000.000000 / 224793.000000]\n",
      "Loss: 0.217160 [140800.000000 / 224793.000000]\n",
      "Loss: 0.228703 [153600.000000 / 224793.000000]\n",
      "Loss: 0.272974 [166400.000000 / 224793.000000]\n",
      "Loss: 0.243247 [179200.000000 / 224793.000000]\n",
      "Loss: 0.131303 [192000.000000 / 224793.000000]\n",
      "Loss: 0.248289 [204800.000000 / 224793.000000]\n",
      "Loss: 0.431232 [217600.000000 / 224793.000000]\n",
      "Validation error:\n",
      "Accuracy: 0.897990, Average loss: 0.249490\n",
      "\n",
      "Epoch 8\n",
      "-------------------------------\n",
      "Loss: 0.241412 [0.000000 / 224793.000000]\n",
      "Loss: 0.254887 [12800.000000 / 224793.000000]\n",
      "Loss: 0.220030 [25600.000000 / 224793.000000]\n",
      "Loss: 0.220249 [38400.000000 / 224793.000000]\n",
      "Loss: 0.234035 [51200.000000 / 224793.000000]\n",
      "Loss: 0.315525 [64000.000000 / 224793.000000]\n",
      "Loss: 0.419914 [76800.000000 / 224793.000000]\n",
      "Loss: 0.186471 [89600.000000 / 224793.000000]\n",
      "Loss: 0.237563 [102400.000000 / 224793.000000]\n",
      "Loss: 0.311207 [115200.000000 / 224793.000000]\n",
      "Loss: 0.276712 [128000.000000 / 224793.000000]\n",
      "Loss: 0.169169 [140800.000000 / 224793.000000]\n",
      "Loss: 0.174747 [153600.000000 / 224793.000000]\n",
      "Loss: 0.180758 [166400.000000 / 224793.000000]\n",
      "Loss: 0.209668 [179200.000000 / 224793.000000]\n",
      "Loss: 0.308097 [192000.000000 / 224793.000000]\n",
      "Loss: 0.205706 [204800.000000 / 224793.000000]\n",
      "Loss: 0.197413 [217600.000000 / 224793.000000]\n",
      "Validation error:\n",
      "Accuracy: 0.900993, Average loss: 0.240732\n",
      "\n",
      "Epoch 9\n",
      "-------------------------------\n",
      "Loss: 0.232063 [0.000000 / 224793.000000]\n",
      "Loss: 0.185853 [12800.000000 / 224793.000000]\n",
      "Loss: 0.248386 [25600.000000 / 224793.000000]\n",
      "Loss: 0.203997 [38400.000000 / 224793.000000]\n",
      "Loss: 0.240185 [51200.000000 / 224793.000000]\n",
      "Loss: 0.180985 [64000.000000 / 224793.000000]\n",
      "Loss: 0.238311 [76800.000000 / 224793.000000]\n",
      "Loss: 0.193175 [89600.000000 / 224793.000000]\n",
      "Loss: 0.267941 [102400.000000 / 224793.000000]\n",
      "Loss: 0.104990 [115200.000000 / 224793.000000]\n",
      "Loss: 0.260463 [128000.000000 / 224793.000000]\n",
      "Loss: 0.306343 [140800.000000 / 224793.000000]\n",
      "Loss: 0.229717 [153600.000000 / 224793.000000]\n",
      "Loss: 0.155484 [166400.000000 / 224793.000000]\n",
      "Loss: 0.205787 [179200.000000 / 224793.000000]\n",
      "Loss: 0.248788 [192000.000000 / 224793.000000]\n",
      "Loss: 0.241215 [204800.000000 / 224793.000000]\n",
      "Loss: 0.311268 [217600.000000 / 224793.000000]\n",
      "Validation error:\n",
      "Accuracy: 0.900993, Average loss: 0.244430\n",
      "\n",
      "Epoch 10\n",
      "-------------------------------\n",
      "Loss: 0.206130 [0.000000 / 224793.000000]\n",
      "Loss: 0.297754 [12800.000000 / 224793.000000]\n",
      "Loss: 0.274401 [25600.000000 / 224793.000000]\n",
      "Loss: 0.178487 [38400.000000 / 224793.000000]\n",
      "Loss: 0.293665 [51200.000000 / 224793.000000]\n",
      "Loss: 0.221448 [64000.000000 / 224793.000000]\n",
      "Loss: 0.172229 [76800.000000 / 224793.000000]\n",
      "Loss: 0.187836 [89600.000000 / 224793.000000]\n",
      "Loss: 0.216612 [102400.000000 / 224793.000000]\n",
      "Loss: 0.210166 [115200.000000 / 224793.000000]\n",
      "Loss: 0.197302 [128000.000000 / 224793.000000]\n",
      "Loss: 0.225117 [140800.000000 / 224793.000000]\n",
      "Loss: 0.240898 [153600.000000 / 224793.000000]\n",
      "Loss: 0.221649 [166400.000000 / 224793.000000]\n",
      "Loss: 0.189199 [179200.000000 / 224793.000000]\n",
      "Loss: 0.212544 [192000.000000 / 224793.000000]\n",
      "Loss: 0.248532 [204800.000000 / 224793.000000]\n",
      "Loss: 0.223633 [217600.000000 / 224793.000000]\n",
      "Validation error:\n",
      "Accuracy: 0.893586, Average loss: 0.293933\n",
      "\n",
      "\n",
      "Done!\n"
     ]
    }
   ],
   "source": [
    "model, history = train(iterator_train = iterator_train,\n",
    "                       iterator_valid = iterator_valid,\n",
    "                       model = model,\n",
    "                       loss_fn = loss_fn,\n",
    "                       optimizer = optimizer,\n",
    "                       device = device,\n",
    "                       n_epochs = N_EPOCHS)"
   ]
  },
  {
   "cell_type": "markdown",
   "id": "8cdd4661",
   "metadata": {
    "papermill": {
     "duration": 0.082725,
     "end_time": "2021-12-07T07:54:13.548272",
     "exception": false,
     "start_time": "2021-12-07T07:54:13.465547",
     "status": "completed"
    },
    "tags": []
   },
   "source": [
    "Visualize the loss."
   ]
  },
  {
   "cell_type": "code",
   "execution_count": 24,
   "id": "cd8ec992",
   "metadata": {
    "execution": {
     "iopub.execute_input": "2021-12-07T07:54:13.717661Z",
     "iopub.status.busy": "2021-12-07T07:54:13.715199Z",
     "iopub.status.idle": "2021-12-07T07:54:13.943694Z",
     "shell.execute_reply": "2021-12-07T07:54:13.944146Z",
     "shell.execute_reply.started": "2021-12-07T04:12:14.577762Z"
    },
    "papermill": {
     "duration": 0.315035,
     "end_time": "2021-12-07T07:54:13.944293",
     "exception": false,
     "start_time": "2021-12-07T07:54:13.629258",
     "status": "completed"
    },
    "tags": []
   },
   "outputs": [
    {
     "data": {
      "image/png": "[encoded data removed]",
      "text/plain": [
       "<Figure size 720x576 with 1 Axes>"
      ]
     },
     "metadata": {
      "needs_background": "light"
     },
     "output_type": "display_data"
    }
   ],
   "source": [
    "plt.figure(figsize = [10, 8])\n",
    "plt.plot(history[\"average_train_loss\"],\n",
    "         label = \"Average training loss\")\n",
    "plt.plot(history[\"average_valid_loss\"],\n",
    "         label = \"Average validation loss\")\n",
    "plt.legend()\n",
    "plt.xlabel(\"Epoch\")\n",
    "plt.ylabel(\"Average loss\")\n",
    "plt.title(\"Loss plot\")\n",
    "plt.show()"
   ]
  },
  {
   "cell_type": "markdown",
   "id": "4487e064",
   "metadata": {
    "papermill": {
     "duration": 0.081913,
     "end_time": "2021-12-07T07:54:14.108762",
     "exception": false,
     "start_time": "2021-12-07T07:54:14.026849",
     "status": "completed"
    },
    "tags": []
   },
   "source": [
    "Visualize the accuracy."
   ]
  },
  {
   "cell_type": "code",
   "execution_count": 25,
   "id": "06c93a7b",
   "metadata": {
    "execution": {
     "iopub.execute_input": "2021-12-07T07:54:14.304867Z",
     "iopub.status.busy": "2021-12-07T07:54:14.303155Z",
     "iopub.status.idle": "2021-12-07T07:54:14.471047Z",
     "shell.execute_reply": "2021-12-07T07:54:14.470370Z",
     "shell.execute_reply.started": "2021-12-07T04:12:26.326920Z"
    },
    "papermill": {
     "duration": 0.280247,
     "end_time": "2021-12-07T07:54:14.471171",
     "exception": false,
     "start_time": "2021-12-07T07:54:14.190924",
     "status": "completed"
    },
    "tags": []
   },
   "outputs": [
    {
     "data": {
      "image/png": "[encoded data removed]",
      "text/plain": [
       "<Figure size 720x576 with 1 Axes>"
      ]
     },
     "metadata": {
      "needs_background": "light"
     },
     "output_type": "display_data"
    }
   ],
   "source": [
    "plt.figure(figsize = [10, 8])\n",
    "plt.plot(history[\"train_accuracy\"],\n",
    "         label = \"Training accuracy\")\n",
    "plt.plot(history[\"valid_accuracy\"],\n",
    "         label = \"Validation accuracy\")\n",
    "plt.legend()\n",
    "plt.xlabel(\"Epoch\")\n",
    "plt.ylabel(\"Accuracy\")\n",
    "plt.title(\"Accuracy plot\")\n",
    "plt.show()"
   ]
  },
  {
   "cell_type": "markdown",
   "id": "f602ac4f",
   "metadata": {
    "papermill": {
     "duration": 0.084213,
     "end_time": "2021-12-07T07:54:14.639201",
     "exception": false,
     "start_time": "2021-12-07T07:54:14.554988",
     "status": "completed"
    },
    "tags": []
   },
   "source": [
    "# Evaluate the model"
   ]
  },
  {
   "cell_type": "markdown",
   "id": "5b8b0562",
   "metadata": {
    "papermill": {
     "duration": 0.082701,
     "end_time": "2021-12-07T07:54:14.804907",
     "exception": false,
     "start_time": "2021-12-07T07:54:14.722206",
     "status": "completed"
    },
    "tags": []
   },
   "source": [
    "Define the evaluation function."
   ]
  },
  {
   "cell_type": "code",
   "execution_count": 26,
   "id": "c1036e77",
   "metadata": {
    "execution": {
     "iopub.execute_input": "2021-12-07T07:54:14.981893Z",
     "iopub.status.busy": "2021-12-07T07:54:14.980276Z",
     "iopub.status.idle": "2021-12-07T07:54:14.982468Z",
     "shell.execute_reply": "2021-12-07T07:54:14.982889Z",
     "shell.execute_reply.started": "2021-12-07T04:12:37.111734Z"
    },
    "papermill": {
     "duration": 0.094052,
     "end_time": "2021-12-07T07:54:14.983024",
     "exception": false,
     "start_time": "2021-12-07T07:54:14.888972",
     "status": "completed"
    },
    "tags": []
   },
   "outputs": [],
   "source": [
    "def evaluate(iterator_test, \n",
    "             model, \n",
    "             loss_fn,\n",
    "             device):\n",
    "    \n",
    "    size = len(iterator_test.dataset)\n",
    "    num_batches = len(iterator_test)\n",
    "    test_loss = 0\n",
    "    correct = 0\n",
    "    \n",
    "    with torch.no_grad():\n",
    "        for X, y in iterator_test:\n",
    "            X = X.to(device)\n",
    "            y = y.to(device)\n",
    "            pred = model(X)\n",
    "            test_loss += loss_fn(pred, y).item()\n",
    "            correct += (pred.argmax(1) == y).type(torch.float).sum().item()\n",
    "    \n",
    "    average_loss = test_loss / num_batches\n",
    "    accuracy = correct / size\n",
    "    \n",
    "    print(\"Test error:\")\n",
    "    print(f\"Accuracy: {accuracy:.6f}, Average loss: {average_loss:.6f}\")"
   ]
  },
  {
   "cell_type": "markdown",
   "id": "49fef073",
   "metadata": {
    "papermill": {
     "duration": 0.083022,
     "end_time": "2021-12-07T07:54:15.151620",
     "exception": false,
     "start_time": "2021-12-07T07:54:15.068598",
     "status": "completed"
    },
    "tags": []
   },
   "source": [
    "Evaluate the model."
   ]
  },
  {
   "cell_type": "code",
   "execution_count": 27,
   "id": "a91bf28d",
   "metadata": {
    "execution": {
     "iopub.execute_input": "2021-12-07T07:54:15.320512Z",
     "iopub.status.busy": "2021-12-07T07:54:15.319996Z",
     "iopub.status.idle": "2021-12-07T07:57:33.205881Z",
     "shell.execute_reply": "2021-12-07T07:57:33.206480Z",
     "shell.execute_reply.started": "2021-12-07T04:12:42.117673Z"
    },
    "papermill": {
     "duration": 197.972586,
     "end_time": "2021-12-07T07:57:33.206677",
     "exception": false,
     "start_time": "2021-12-07T07:54:15.234091",
     "status": "completed"
    },
    "tags": []
   },
   "outputs": [
    {
     "name": "stdout",
     "output_type": "stream",
     "text": [
      "Test error:\n",
      "Accuracy: 0.895579, Average loss: 0.292813\n"
     ]
    }
   ],
   "source": [
    "evaluate(iterator_test = iterator_test,\n",
    "         model = model,\n",
    "         loss_fn = loss_fn,\n",
    "         device = device)"
   ]
  },
  {
   "cell_type": "markdown",
   "id": "353167b2",
   "metadata": {
    "papermill": {
     "duration": 0.082931,
     "end_time": "2021-12-07T07:57:33.373418",
     "exception": false,
     "start_time": "2021-12-07T07:57:33.290487",
     "status": "completed"
    },
    "tags": []
   },
   "source": [
    "# Save the model"
   ]
  },
  {
   "cell_type": "markdown",
   "id": "855df366",
   "metadata": {
    "papermill": {
     "duration": 0.08237,
     "end_time": "2021-12-07T07:57:33.539363",
     "exception": false,
     "start_time": "2021-12-07T07:57:33.456993",
     "status": "completed"
    },
    "tags": []
   },
   "source": [
    "Save the model to disk."
   ]
  },
  {
   "cell_type": "code",
   "execution_count": 28,
   "id": "90e423ee",
   "metadata": {
    "execution": {
     "iopub.execute_input": "2021-12-07T07:57:33.714521Z",
     "iopub.status.busy": "2021-12-07T07:57:33.714008Z",
     "iopub.status.idle": "2021-12-07T07:57:33.729673Z",
     "shell.execute_reply": "2021-12-07T07:57:33.729270Z",
     "shell.execute_reply.started": "2021-12-07T04:17:01.544430Z"
    },
    "papermill": {
     "duration": 0.10731,
     "end_time": "2021-12-07T07:57:33.729785",
     "exception": false,
     "start_time": "2021-12-07T07:57:33.622475",
     "status": "completed"
    },
    "tags": []
   },
   "outputs": [],
   "source": [
    "torch.save(model, \n",
    "           \"pytorch-vgg16-cifar-10-model.pth\")"
   ]
  }
 ],
 "metadata": {
  "kernelspec": {
   "display_name": "Python 3",
   "language": "python",
   "name": "python3"
  },
  "language_info": {
   "codemirror_mode": {
    "name": "ipython",
    "version": 3
   },
   "file_extension": ".py",
   "mimetype": "text/x-python",
   "name": "python",
   "nbconvert_exporter": "python",
   "pygments_lexer": "ipython3",
   "version": "3.7.12"
  },
  "papermill": {
   "default_parameters": {},
   "duration": 13161.803608,
   "end_time": "2021-12-07T07:57:35.246235",
   "environment_variables": {},
   "exception": null,
   "input_path": "__notebook__.ipynb",
   "output_path": "__notebook__.ipynb",
   "parameters": {},
   "start_time": "2021-12-07T04:18:13.442627",
   "version": "2.3.3"
  }
 },
 "nbformat": 4,
 "nbformat_minor": 5
}
